{
  "nbformat": 4,
  "nbformat_minor": 0,
  "metadata": {
    "colab": {
      "name": "Reuters_Dataset_Keras.ipynb",
      "provenance": [],
      "collapsed_sections": [],
      "authorship_tag": "ABX9TyMKs7oXTpXb6FQnvfTG5SpA",
      "include_colab_link": true
    },
    "kernelspec": {
      "name": "python3",
      "display_name": "Python 3"
    }
  },
  "cells": [
    {
      "cell_type": "markdown",
      "metadata": {
        "id": "view-in-github",
        "colab_type": "text"
      },
      "source": [
        "<a href=\"https://colab.research.google.com/github/kmkar31/Keras-inbuilt-Datasets/blob/master/Reuters_Dataset_Keras.ipynb\" target=\"_parent\"><img src=\"https://colab.research.google.com/assets/colab-badge.svg\" alt=\"Open In Colab\"/></a>"
      ]
    },
    {
      "cell_type": "code",
      "metadata": {
        "id": "iNhfrYSs4CSD",
        "colab_type": "code",
        "outputId": "48e38ddd-2d9d-4862-f19a-9cb6ec64d86d",
        "colab": {
          "base_uri": "https://localhost:8080/",
          "height": 33
        }
      },
      "source": [
        "import keras\n",
        "import numpy as np"
      ],
      "execution_count": 1,
      "outputs": [
        {
          "output_type": "stream",
          "text": [
            "Using TensorFlow backend.\n"
          ],
          "name": "stderr"
        }
      ]
    },
    {
      "cell_type": "markdown",
      "metadata": {
        "id": "YHsiofLjHYR4",
        "colab_type": "text"
      },
      "source": [
        "### Get Data from keras.datasets.load_data"
      ]
    },
    {
      "cell_type": "markdown",
      "metadata": {
        "id": "zZ1I4plgHfZR",
        "colab_type": "text"
      },
      "source": [
        "#### The load_data argument tokenizes the sentences , splits into test and train data and also limits the max size to 10,000 words"
      ]
    },
    {
      "cell_type": "code",
      "metadata": {
        "id": "LVvLoNF24SYL",
        "colab_type": "code",
        "colab": {}
      },
      "source": [
        "(Xtrain , Ytrain) , (Xtest , Ytest) = keras.datasets.reuters.load_data(test_split=0.2 , num_words = 10000)"
      ],
      "execution_count": 0,
      "outputs": []
    },
    {
      "cell_type": "markdown",
      "metadata": {
        "id": "Nv6HrZ5LHyGc",
        "colab_type": "text"
      },
      "source": [
        "### The Vocabulary is a dictionary that contains mapping of words to their token values"
      ]
    },
    {
      "cell_type": "code",
      "metadata": {
        "id": "MBwmNzqB4p6o",
        "colab_type": "code",
        "colab": {}
      },
      "source": [
        "Vocabulary = keras.datasets.reuters.get_word_index(path=\"reuters_word_index.json\")\n",
        "Vocabulary['<ooV>'] = 0"
      ],
      "execution_count": 0,
      "outputs": []
    },
    {
      "cell_type": "markdown",
      "metadata": {
        "id": "_RWfukrRIAvq",
        "colab_type": "text"
      },
      "source": [
        "### The Inverse_Vocabulary contains mapping from tokens to corresponding words"
      ]
    },
    {
      "cell_type": "code",
      "metadata": {
        "id": "CZo7SvAS47EI",
        "colab_type": "code",
        "colab": {}
      },
      "source": [
        "Inverse_Vocabulary =  {values: keys for keys, values in Vocabulary.items()}"
      ],
      "execution_count": 0,
      "outputs": []
    },
    {
      "cell_type": "code",
      "metadata": {
        "id": "5phEXybVY88N",
        "colab_type": "code",
        "outputId": "a240a1cf-f139-46b5-c0cc-b2c5db927a33",
        "colab": {
          "base_uri": "https://localhost:8080/",
          "height": 33
        }
      },
      "source": [
        "Xtrain.shape"
      ],
      "execution_count": 5,
      "outputs": [
        {
          "output_type": "execute_result",
          "data": {
            "text/plain": [
              "(8982,)"
            ]
          },
          "metadata": {
            "tags": []
          },
          "execution_count": 5
        }
      ]
    },
    {
      "cell_type": "markdown",
      "metadata": {
        "id": "LdjTNz54IKGL",
        "colab_type": "text"
      },
      "source": [
        "### This function converts a sequence of tokens into the equivalent string"
      ]
    },
    {
      "cell_type": "code",
      "metadata": {
        "id": "RAMoirU_489I",
        "colab_type": "code",
        "colab": {}
      },
      "source": [
        "def get_text(sequence):\n",
        "  text = [Inverse_Vocabulary[x] for x in sequence]\n",
        "  return \" \".join(text)"
      ],
      "execution_count": 0,
      "outputs": []
    },
    {
      "cell_type": "code",
      "metadata": {
        "id": "ATNb8XD37Huz",
        "colab_type": "code",
        "outputId": "9806aab6-cc45-4bbd-9d23-fab463b2970d",
        "colab": {
          "base_uri": "https://localhost:8080/",
          "height": 53
        }
      },
      "source": [
        "print(get_text(Xtrain[0]))"
      ],
      "execution_count": 7,
      "outputs": [
        {
          "output_type": "stream",
          "text": [
            "the of of mln loss for plc said at only ended said commonwealth could 1 traders now april 0 a after said from 1985 and from foreign 000 april 0 prices its account year a but in this mln home an states earlier and rise and revs vs 000 its 16 vs 000 a but 3 psbr oils several and shareholders and dividend vs 000 its all 4 vs 000 1 mln agreed largely april 0 are 2 states will billion total and against 000 pct dlrs\n"
          ],
          "name": "stdout"
        }
      ]
    },
    {
      "cell_type": "markdown",
      "metadata": {
        "id": "fugClFaMIX4e",
        "colab_type": "text"
      },
      "source": [
        "### The Vectorize function performs a one-hot encoding of the sequence data"
      ]
    },
    {
      "cell_type": "code",
      "metadata": {
        "id": "6us4-OGdhVRR",
        "colab_type": "code",
        "colab": {}
      },
      "source": [
        "def Vectorize(X):\n",
        "  temp = np.zeros((len(X) , 10000))\n",
        "  for i , X in enumerate(X):\n",
        "    temp[i , X] = 1\n",
        "  return temp"
      ],
      "execution_count": 0,
      "outputs": []
    },
    {
      "cell_type": "code",
      "metadata": {
        "id": "L73XOLnEhtlj",
        "colab_type": "code",
        "colab": {}
      },
      "source": [
        "X_train = Vectorize(Xtrain)\n",
        "X_test = Vectorize(Xtest)"
      ],
      "execution_count": 0,
      "outputs": []
    },
    {
      "cell_type": "markdown",
      "metadata": {
        "id": "JPTlGiWHIjsq",
        "colab_type": "text"
      },
      "source": [
        "This functions convert the labels into One-Hot encoded format"
      ]
    },
    {
      "cell_type": "code",
      "metadata": {
        "id": "OkIyjw6xazqf",
        "colab_type": "code",
        "colab": {}
      },
      "source": [
        "def one_hot(Y):\n",
        "  return keras.utils.to_categorical(Y , num_classes = 46)"
      ],
      "execution_count": 0,
      "outputs": []
    },
    {
      "cell_type": "code",
      "metadata": {
        "id": "deDDhkw6cO5f",
        "colab_type": "code",
        "colab": {}
      },
      "source": [
        "Ytrain = one_hot(Ytrain)"
      ],
      "execution_count": 0,
      "outputs": []
    },
    {
      "cell_type": "code",
      "metadata": {
        "id": "D3zSS-ukRwJh",
        "colab_type": "code",
        "outputId": "5095e6d4-dc0b-441f-9171-fdd5f89253dc",
        "colab": {
          "base_uri": "https://localhost:8080/",
          "height": 33
        }
      },
      "source": [
        "X_train.shape"
      ],
      "execution_count": 12,
      "outputs": [
        {
          "output_type": "execute_result",
          "data": {
            "text/plain": [
              "(8982, 10000)"
            ]
          },
          "metadata": {
            "tags": []
          },
          "execution_count": 12
        }
      ]
    },
    {
      "cell_type": "code",
      "metadata": {
        "id": "yLeeA1oOFYDA",
        "colab_type": "code",
        "colab": {
          "base_uri": "https://localhost:8080/",
          "height": 33
        },
        "outputId": "ad349de6-6bda-4cb7-f943-f60ead214007"
      },
      "source": [
        "X_test.shape"
      ],
      "execution_count": 13,
      "outputs": [
        {
          "output_type": "execute_result",
          "data": {
            "text/plain": [
              "(2246, 10000)"
            ]
          },
          "metadata": {
            "tags": []
          },
          "execution_count": 13
        }
      ]
    },
    {
      "cell_type": "markdown",
      "metadata": {
        "id": "h5NvmfbXIrdq",
        "colab_type": "text"
      },
      "source": [
        "### Create Validation Data and labels"
      ]
    },
    {
      "cell_type": "code",
      "metadata": {
        "id": "cMZv4DBjQ8k5",
        "colab_type": "code",
        "colab": {}
      },
      "source": [
        "X_val = X_train[:1000]\n",
        "Y_val = Ytrain[:1000]"
      ],
      "execution_count": 0,
      "outputs": []
    },
    {
      "cell_type": "markdown",
      "metadata": {
        "id": "Ng48VBWMIwRB",
        "colab_type": "text"
      },
      "source": [
        "### Define the model"
      ]
    },
    {
      "cell_type": "code",
      "metadata": {
        "id": "u4uaqNfQ7v0K",
        "colab_type": "code",
        "colab": {}
      },
      "source": [
        "from keras.models import Sequential\n",
        "from keras.layers import Dense , Dropout"
      ],
      "execution_count": 0,
      "outputs": []
    },
    {
      "cell_type": "code",
      "metadata": {
        "id": "AWV6Svzj8tOm",
        "colab_type": "code",
        "outputId": "9ee47f31-de73-4c79-e464-33eda0132ae5",
        "colab": {
          "base_uri": "https://localhost:8080/",
          "height": 251
        }
      },
      "source": [
        "model = Sequential()\n",
        "\n",
        "model.add(Dense(512 , input_shape = (10000,) ,activation = 'relu' ,kernel_initializer = 'he_uniform'))\n",
        "model.add(Dropout(0.5))\n",
        "model.add(Dense(46 , activation = 'softmax'))\n",
        "\n",
        "model.summary()"
      ],
      "execution_count": 16,
      "outputs": [
        {
          "output_type": "stream",
          "text": [
            "Model: \"sequential_1\"\n",
            "_________________________________________________________________\n",
            "Layer (type)                 Output Shape              Param #   \n",
            "=================================================================\n",
            "dense_1 (Dense)              (None, 512)               5120512   \n",
            "_________________________________________________________________\n",
            "dropout_1 (Dropout)          (None, 512)               0         \n",
            "_________________________________________________________________\n",
            "dense_2 (Dense)              (None, 46)                23598     \n",
            "=================================================================\n",
            "Total params: 5,144,110\n",
            "Trainable params: 5,144,110\n",
            "Non-trainable params: 0\n",
            "_________________________________________________________________\n"
          ],
          "name": "stdout"
        }
      ]
    },
    {
      "cell_type": "markdown",
      "metadata": {
        "id": "MR5f6D69IzBr",
        "colab_type": "text"
      },
      "source": [
        "### Compile and train the model"
      ]
    },
    {
      "cell_type": "code",
      "metadata": {
        "id": "vHPj0BjGV601",
        "colab_type": "code",
        "colab": {}
      },
      "source": [
        "model.compile(optimizer = 'rmsprop' , loss = 'categorical_crossentropy' , metrics = ['accuracy'])"
      ],
      "execution_count": 0,
      "outputs": []
    },
    {
      "cell_type": "code",
      "metadata": {
        "id": "OovzXyjbVHCa",
        "colab_type": "code",
        "outputId": "339dae9b-56db-4b7c-cb62-762980266cf6",
        "colab": {
          "base_uri": "https://localhost:8080/",
          "height": 1000
        }
      },
      "source": [
        "history = model.fit(X_train[1000:] , Ytrain[1000:] , validation_data = (X_val , Y_val) , shuffle = True , epochs = 30 , batch_size = 4 , use_multiprocessing = True , verbose = 1)"
      ],
      "execution_count": 18,
      "outputs": [
        {
          "output_type": "stream",
          "text": [
            "Train on 7982 samples, validate on 1000 samples\n",
            "Epoch 1/30\n",
            "7982/7982 [==============================] - 88s 11ms/step - loss: 1.5446 - accuracy: 0.7021 - val_loss: 1.4643 - val_accuracy: 0.7560\n",
            "Epoch 2/30\n",
            "7982/7982 [==============================] - 88s 11ms/step - loss: 1.3582 - accuracy: 0.7848 - val_loss: 1.9745 - val_accuracy: 0.7700\n",
            "Epoch 3/30\n",
            "7982/7982 [==============================] - 90s 11ms/step - loss: 1.3072 - accuracy: 0.8136 - val_loss: 2.0573 - val_accuracy: 0.7900\n",
            "Epoch 4/30\n",
            "7982/7982 [==============================] - 90s 11ms/step - loss: 1.2362 - accuracy: 0.8324 - val_loss: 2.4041 - val_accuracy: 0.7980\n",
            "Epoch 5/30\n",
            "7982/7982 [==============================] - 90s 11ms/step - loss: 1.1266 - accuracy: 0.8440 - val_loss: 2.7994 - val_accuracy: 0.7870\n",
            "Epoch 6/30\n",
            "7982/7982 [==============================] - 89s 11ms/step - loss: 1.0797 - accuracy: 0.8545 - val_loss: 2.9003 - val_accuracy: 0.7890\n",
            "Epoch 7/30\n",
            "7982/7982 [==============================] - 88s 11ms/step - loss: 1.0265 - accuracy: 0.8659 - val_loss: 3.2066 - val_accuracy: 0.7940\n",
            "Epoch 8/30\n",
            "7982/7982 [==============================] - 89s 11ms/step - loss: 0.9612 - accuracy: 0.8720 - val_loss: 3.3524 - val_accuracy: 0.7890\n",
            "Epoch 9/30\n",
            "7982/7982 [==============================] - 94s 12ms/step - loss: 0.8571 - accuracy: 0.8819 - val_loss: 3.8752 - val_accuracy: 0.7820\n",
            "Epoch 10/30\n",
            "7982/7982 [==============================] - 90s 11ms/step - loss: 0.8488 - accuracy: 0.8930 - val_loss: 3.9163 - val_accuracy: 0.7850\n",
            "Epoch 11/30\n",
            "7982/7982 [==============================] - 89s 11ms/step - loss: 0.7922 - accuracy: 0.8988 - val_loss: 4.0054 - val_accuracy: 0.7940\n",
            "Epoch 12/30\n",
            "7982/7982 [==============================] - 88s 11ms/step - loss: 0.7469 - accuracy: 0.9019 - val_loss: 4.4266 - val_accuracy: 0.7910\n",
            "Epoch 13/30\n",
            "7982/7982 [==============================] - 88s 11ms/step - loss: 0.7006 - accuracy: 0.9089 - val_loss: 4.4681 - val_accuracy: 0.7960\n",
            "Epoch 14/30\n",
            "7982/7982 [==============================] - 89s 11ms/step - loss: 0.6910 - accuracy: 0.9132 - val_loss: 4.5734 - val_accuracy: 0.7950\n",
            "Epoch 15/30\n",
            "7982/7982 [==============================] - 91s 11ms/step - loss: 0.6250 - accuracy: 0.9174 - val_loss: 4.9679 - val_accuracy: 0.7990\n",
            "Epoch 16/30\n",
            "7982/7982 [==============================] - 94s 12ms/step - loss: 0.6449 - accuracy: 0.9193 - val_loss: 5.0620 - val_accuracy: 0.7890\n",
            "Epoch 17/30\n",
            "7982/7982 [==============================] - 88s 11ms/step - loss: 0.6448 - accuracy: 0.9203 - val_loss: 5.0335 - val_accuracy: 0.7980\n",
            "Epoch 18/30\n",
            "7982/7982 [==============================] - 88s 11ms/step - loss: 0.5922 - accuracy: 0.9305 - val_loss: 5.5068 - val_accuracy: 0.7940\n",
            "Epoch 19/30\n",
            "7982/7982 [==============================] - 88s 11ms/step - loss: 0.5718 - accuracy: 0.9317 - val_loss: 5.4173 - val_accuracy: 0.8040\n",
            "Epoch 20/30\n",
            "7982/7982 [==============================] - 88s 11ms/step - loss: 0.5319 - accuracy: 0.9355 - val_loss: 5.6967 - val_accuracy: 0.7990\n",
            "Epoch 21/30\n",
            "7982/7982 [==============================] - 88s 11ms/step - loss: 0.5840 - accuracy: 0.9321 - val_loss: 5.4746 - val_accuracy: 0.8060\n",
            "Epoch 22/30\n",
            "7982/7982 [==============================] - 89s 11ms/step - loss: 0.5392 - accuracy: 0.9377 - val_loss: 5.7300 - val_accuracy: 0.8040\n",
            "Epoch 23/30\n",
            "7982/7982 [==============================] - 87s 11ms/step - loss: 0.4977 - accuracy: 0.9382 - val_loss: 5.7132 - val_accuracy: 0.7970\n",
            "Epoch 24/30\n",
            "7982/7982 [==============================] - 87s 11ms/step - loss: 0.5317 - accuracy: 0.9411 - val_loss: 5.9362 - val_accuracy: 0.8000\n",
            "Epoch 25/30\n",
            "7982/7982 [==============================] - 87s 11ms/step - loss: 0.4845 - accuracy: 0.9421 - val_loss: 5.9021 - val_accuracy: 0.7940\n",
            "Epoch 26/30\n",
            "7982/7982 [==============================] - 87s 11ms/step - loss: 0.5782 - accuracy: 0.9430 - val_loss: 6.4977 - val_accuracy: 0.7920\n",
            "Epoch 27/30\n",
            "7982/7982 [==============================] - 87s 11ms/step - loss: 0.5286 - accuracy: 0.9451 - val_loss: 6.2966 - val_accuracy: 0.7930\n",
            "Epoch 28/30\n",
            "7982/7982 [==============================] - 87s 11ms/step - loss: 0.5410 - accuracy: 0.9458 - val_loss: 6.3129 - val_accuracy: 0.7890\n",
            "Epoch 29/30\n",
            "7982/7982 [==============================] - 87s 11ms/step - loss: 0.5036 - accuracy: 0.9476 - val_loss: 6.4455 - val_accuracy: 0.7990\n",
            "Epoch 30/30\n",
            "7982/7982 [==============================] - 87s 11ms/step - loss: 0.5244 - accuracy: 0.9476 - val_loss: 6.3326 - val_accuracy: 0.7920\n"
          ],
          "name": "stdout"
        }
      ]
    },
    {
      "cell_type": "markdown",
      "metadata": {
        "id": "TJII580YI2R1",
        "colab_type": "text"
      },
      "source": [
        "### Plot the Training and Validation accuracy as a function of epochs"
      ]
    },
    {
      "cell_type": "code",
      "metadata": {
        "id": "PbF8rY6D1aOu",
        "colab_type": "code",
        "colab": {}
      },
      "source": [
        "import matplotlib.pyplot as plt\n",
        "%matplotlib inline"
      ],
      "execution_count": 0,
      "outputs": []
    },
    {
      "cell_type": "code",
      "metadata": {
        "id": "bnak37zUsDZa",
        "colab_type": "code",
        "outputId": "685d71f5-aa5a-4ebc-dd95-fe22e10e7c0e",
        "colab": {
          "base_uri": "https://localhost:8080/",
          "height": 281
        }
      },
      "source": [
        "plt.plot(history.history['accuracy'] , color = 'red')\n",
        "plt.plot(history.history['val_accuracy'] , color = 'green')"
      ],
      "execution_count": 20,
      "outputs": [
        {
          "output_type": "execute_result",
          "data": {
            "text/plain": [
              "[<matplotlib.lines.Line2D at 0x7f6f22d24f28>]"
            ]
          },
          "metadata": {
            "tags": []
          },
          "execution_count": 20
        },
        {
          "output_type": "display_data",
          "data": {
            "image/png": "[encoded data removed]",
            "text/plain": [
              "<Figure size 432x288 with 1 Axes>"
            ]
          },
          "metadata": {
            "tags": [],
            "needs_background": "light"
          }
        }
      ]
    },
    {
      "cell_type": "markdown",
      "metadata": {
        "id": "Sfya2JJII-6K",
        "colab_type": "text"
      },
      "source": [
        "### Predict the Labels for the testing data"
      ]
    },
    {
      "cell_type": "code",
      "metadata": {
        "id": "CuLEPCiKV5L8",
        "colab_type": "code",
        "colab": {}
      },
      "source": [
        "y_predict = model.predict(X_test)"
      ],
      "execution_count": 0,
      "outputs": []
    },
    {
      "cell_type": "markdown",
      "metadata": {
        "id": "fobmY2H1JFNl",
        "colab_type": "text"
      },
      "source": [
        "### Print the testing Accuracy"
      ]
    },
    {
      "cell_type": "code",
      "metadata": {
        "id": "tLw9XNIurwtd",
        "colab_type": "code",
        "colab": {
          "base_uri": "https://localhost:8080/",
          "height": 33
        },
        "outputId": "5049e109-06cf-4b60-e9f4-79e59598aa3e"
      },
      "source": [
        "y_predict = np.argmax(y_predict , axis = 1)\n",
        "print(\"Testing Accuracy = \" , np.mean(Ytest==y_predict)*100 , \"%\")"
      ],
      "execution_count": 22,
      "outputs": [
        {
          "output_type": "stream",
          "text": [
            "Testing Accuracy =  77.96081923419412 %\n"
          ],
          "name": "stdout"
        }
      ]
    },
    {
      "cell_type": "markdown",
      "metadata": {
        "id": "_7Iwi9O-JIga",
        "colab_type": "text"
      },
      "source": [
        "### Save the Model and Weights"
      ]
    },
    {
      "cell_type": "code",
      "metadata": {
        "id": "y1NYdEX-sfa1",
        "colab_type": "code",
        "colab": {}
      },
      "source": [
        "model_json = model.to_json()\n",
        "with open(\"Reuters_Keras_model.json\", \"w\") as json_file:\n",
        "    json_file.write(model_json)\n",
        "\n",
        "model.save_weights(\"Reuters_Keras_weights.h5\")"
      ],
      "execution_count": 0,
      "outputs": []
    }
  ]
}