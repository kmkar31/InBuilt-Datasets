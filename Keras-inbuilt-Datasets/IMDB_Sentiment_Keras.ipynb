{
  "nbformat": 4,
  "nbformat_minor": 0,
  "metadata": {
    "colab": {
      "name": "IMDB_Sentiment_Keras.ipynb",
      "provenance": [],
      "collapsed_sections": [],
      "authorship_tag": "ABX9TyPtJmcg3tJNrZeuVsMGa/vH",
      "include_colab_link": true
    },
    "kernelspec": {
      "name": "python3",
      "display_name": "Python 3"
    }
  },
  "cells": [
    {
      "cell_type": "markdown",
      "metadata": {
        "id": "view-in-github",
        "colab_type": "text"
      },
      "source": [
        "<a href=\"https://colab.research.google.com/github/kmkar31/Keras-inbuilt-Datasets/blob/master/IMDB_Sentiment_Keras.ipynb\" target=\"_parent\"><img src=\"https://colab.research.google.com/assets/colab-badge.svg\" alt=\"Open In Colab\"/></a>"
      ]
    },
    {
      "cell_type": "markdown",
      "metadata": {
        "id": "vMK-eoOk_M7m",
        "colab_type": "text"
      },
      "source": [
        "# IMDB Sentiment Classification with Keras"
      ]
    },
    {
      "cell_type": "code",
      "metadata": {
        "id": "t6ZNkTlb8ZET",
        "colab_type": "code",
        "colab": {
          "base_uri": "https://localhost:8080/",
          "height": 33
        },
        "outputId": "fa8dfb28-4161-4b34-ffa4-55ee7ead5617"
      },
      "source": [
        "import keras\n",
        "import numpy as np"
      ],
      "execution_count": 1,
      "outputs": [
        {
          "output_type": "stream",
          "text": [
            "Using TensorFlow backend.\n"
          ],
          "name": "stderr"
        }
      ]
    },
    {
      "cell_type": "markdown",
      "metadata": {
        "id": "wWoVioDN_TqT",
        "colab_type": "text"
      },
      "source": [
        "### Import and Load the Data"
      ]
    },
    {
      "cell_type": "code",
      "metadata": {
        "id": "llh2vlNiqCcM",
        "colab_type": "code",
        "colab": {}
      },
      "source": [
        "from keras.datasets import imdb"
      ],
      "execution_count": 0,
      "outputs": []
    },
    {
      "cell_type": "code",
      "metadata": {
        "id": "10TNWNcRqIeL",
        "colab_type": "code",
        "colab": {
          "base_uri": "https://localhost:8080/",
          "height": 50
        },
        "outputId": "63901995-08ac-43fc-bbbb-7483113398fd"
      },
      "source": [
        "(Xtrain , Ytrain) , (Xtest , Ytest) = imdb.load_data(path='imdb.npz', maxlen=10000, seed=113, oov_char=0 , num_words = 20000)"
      ],
      "execution_count": 3,
      "outputs": [
        {
          "output_type": "stream",
          "text": [
            "Downloading data from https://s3.amazonaws.com/text-datasets/imdb.npz\n",
            "17465344/17464789 [==============================] - 1s 0us/step\n"
          ],
          "name": "stdout"
        }
      ]
    },
    {
      "cell_type": "markdown",
      "metadata": {
        "id": "AwkBmfaF_W-M",
        "colab_type": "text"
      },
      "source": [
        "### Pad the text . The additional length is padded with a zero"
      ]
    },
    {
      "cell_type": "code",
      "metadata": {
        "id": "bgonq4Ofqikd",
        "colab_type": "code",
        "colab": {}
      },
      "source": [
        "from keras.preprocessing.sequence import pad_sequences"
      ],
      "execution_count": 0,
      "outputs": []
    },
    {
      "cell_type": "code",
      "metadata": {
        "id": "NTjoXR1zqpJ6",
        "colab_type": "code",
        "colab": {}
      },
      "source": [
        "def pad(sequence):\n",
        "  return pad_sequences(sequence, maxlen=200, dtype='int32')"
      ],
      "execution_count": 0,
      "outputs": []
    },
    {
      "cell_type": "code",
      "metadata": {
        "id": "m2w_ajysrYfX",
        "colab_type": "code",
        "colab": {}
      },
      "source": [
        "X_train = pad(Xtrain)\n",
        "X_test = pad(Xtest)"
      ],
      "execution_count": 0,
      "outputs": []
    },
    {
      "cell_type": "markdown",
      "metadata": {
        "id": "3aN59iuT_fCD",
        "colab_type": "text"
      },
      "source": [
        "### Perform a sort of one_hot encoding on the data restriction the vocabulary size to 20000 words"
      ]
    },
    {
      "cell_type": "code",
      "metadata": {
        "id": "ZGSSo9jZuu4E",
        "colab_type": "code",
        "colab": {}
      },
      "source": [
        "def Vectorize(sequence):\n",
        "  temp = np.zeros((len(sequence) , 20000))\n",
        "  for i , sequence in enumerate(sequence):\n",
        "    temp[i , sequence] = 1\n",
        "  return temp"
      ],
      "execution_count": 0,
      "outputs": []
    },
    {
      "cell_type": "code",
      "metadata": {
        "id": "J4ToLydFvPgk",
        "colab_type": "code",
        "colab": {}
      },
      "source": [
        "X_train = Vectorize(X_train)\n",
        "X_test = Vectorize(X_test)"
      ],
      "execution_count": 0,
      "outputs": []
    },
    {
      "cell_type": "markdown",
      "metadata": {
        "id": "c-go_AYZ_nw7",
        "colab_type": "text"
      },
      "source": [
        "### One_hot encode the labels"
      ]
    },
    {
      "cell_type": "code",
      "metadata": {
        "id": "ICX1IUgerdZK",
        "colab_type": "code",
        "colab": {}
      },
      "source": [
        "Y_train = keras.utils.to_categorical(Ytrain , num_classes = 2)"
      ],
      "execution_count": 0,
      "outputs": []
    },
    {
      "cell_type": "code",
      "metadata": {
        "id": "1mischNKrkia",
        "colab_type": "code",
        "colab": {
          "base_uri": "https://localhost:8080/",
          "height": 33
        },
        "outputId": "9bb541a2-4ec1-4533-ba2b-71bfc7a555ef"
      },
      "source": [
        "Y_train.shape"
      ],
      "execution_count": 10,
      "outputs": [
        {
          "output_type": "execute_result",
          "data": {
            "text/plain": [
              "(25000, 2)"
            ]
          },
          "metadata": {
            "tags": []
          },
          "execution_count": 10
        }
      ]
    },
    {
      "cell_type": "markdown",
      "metadata": {
        "id": "-Xc-kAGT_rIt",
        "colab_type": "text"
      },
      "source": [
        "### Define the model"
      ]
    },
    {
      "cell_type": "code",
      "metadata": {
        "id": "hWhLT2HxsIes",
        "colab_type": "code",
        "colab": {}
      },
      "source": [
        "from keras.models import Sequential\n",
        "from keras.layers import Dense , Dropout"
      ],
      "execution_count": 0,
      "outputs": []
    },
    {
      "cell_type": "code",
      "metadata": {
        "id": "OXW77H20sP-a",
        "colab_type": "code",
        "colab": {
          "base_uri": "https://localhost:8080/",
          "height": 217
        },
        "outputId": "11d3be5f-104f-45df-d6fd-2d3eeafa5d16"
      },
      "source": [
        "model = Sequential()\n",
        "\n",
        "model.add(Dense(256 , activation = 'relu' , kernel_initializer = 'glorot_uniform' , input_shape = (20000,)))\n",
        "model.add(Dense(2 , activation = 'softmax'))\n",
        "\n",
        "model.summary()"
      ],
      "execution_count": 12,
      "outputs": [
        {
          "output_type": "stream",
          "text": [
            "Model: \"sequential_1\"\n",
            "_________________________________________________________________\n",
            "Layer (type)                 Output Shape              Param #   \n",
            "=================================================================\n",
            "dense_1 (Dense)              (None, 256)               5120256   \n",
            "_________________________________________________________________\n",
            "dense_2 (Dense)              (None, 2)                 514       \n",
            "=================================================================\n",
            "Total params: 5,120,770\n",
            "Trainable params: 5,120,770\n",
            "Non-trainable params: 0\n",
            "_________________________________________________________________\n"
          ],
          "name": "stdout"
        }
      ]
    },
    {
      "cell_type": "markdown",
      "metadata": {
        "id": "HxjXuZw5_uR7",
        "colab_type": "text"
      },
      "source": [
        "### Compile and Train the model"
      ]
    },
    {
      "cell_type": "code",
      "metadata": {
        "id": "8Of5oJKmsuIQ",
        "colab_type": "code",
        "colab": {}
      },
      "source": [
        "model.compile(optimizer = 'adam' , loss = 'binary_crossentropy' , metrics = ['accuracy'])"
      ],
      "execution_count": 0,
      "outputs": []
    },
    {
      "cell_type": "code",
      "metadata": {
        "id": "VogdUcgEs62T",
        "colab_type": "code",
        "colab": {
          "base_uri": "https://localhost:8080/",
          "height": 201
        },
        "outputId": "946f2ca0-660d-48c6-d2f5-63900ab271c2"
      },
      "source": [
        "history = model.fit(X_train[2000:] , Y_train[2000:] , validation_data = (X_train[:2000] , Y_train[:2000]) ,shuffle = True , batch_size = 50 , epochs = 5 , verbose = 1 )"
      ],
      "execution_count": 14,
      "outputs": [
        {
          "output_type": "stream",
          "text": [
            "Train on 23000 samples, validate on 2000 samples\n",
            "Epoch 1/5\n",
            "23000/23000 [==============================] - 33s 1ms/step - loss: 0.3283 - accuracy: 0.8589 - val_loss: 0.2748 - val_accuracy: 0.8840\n",
            "Epoch 2/5\n",
            "23000/23000 [==============================] - 32s 1ms/step - loss: 0.1218 - accuracy: 0.9535 - val_loss: 0.3307 - val_accuracy: 0.8770\n",
            "Epoch 3/5\n",
            "23000/23000 [==============================] - 32s 1ms/step - loss: 0.0365 - accuracy: 0.9878 - val_loss: 0.4691 - val_accuracy: 0.8670\n",
            "Epoch 4/5\n",
            "23000/23000 [==============================] - 32s 1ms/step - loss: 0.0077 - accuracy: 0.9987 - val_loss: 0.5755 - val_accuracy: 0.8770\n",
            "Epoch 5/5\n",
            "23000/23000 [==============================] - 32s 1ms/step - loss: 0.0015 - accuracy: 0.9999 - val_loss: 0.6873 - val_accuracy: 0.8765\n"
          ],
          "name": "stdout"
        }
      ]
    },
    {
      "cell_type": "markdown",
      "metadata": {
        "id": "yiUpH209_xOu",
        "colab_type": "text"
      },
      "source": [
        "### Plot the Accuracies and Losses on training and Validation Data"
      ]
    },
    {
      "cell_type": "code",
      "metadata": {
        "id": "dOnBVc5q1gx8",
        "colab_type": "code",
        "colab": {}
      },
      "source": [
        "import matplotlib.pyplot as plt\n",
        "%matplotlib inline"
      ],
      "execution_count": 0,
      "outputs": []
    },
    {
      "cell_type": "code",
      "metadata": {
        "id": "e8Z0l0nc1r_p",
        "colab_type": "code",
        "colab": {
          "base_uri": "https://localhost:8080/",
          "height": 265
        },
        "outputId": "11d0dedc-e8c8-4bd8-bbcb-0c6b34d9efb6"
      },
      "source": [
        "plt.plot(history.history['accuracy'] ,color = 'red' ,label = 'Training Accuracy')\n",
        "plt.plot(history.history['val_accuracy'] ,color = 'green' , label = 'Validation Accuracy')\n",
        "plt.legend()\n",
        "plt.show()"
      ],
      "execution_count": 16,
      "outputs": [
        {
          "output_type": "display_data",
          "data": {
            "image/png": "[encoded data removed]",
            "text/plain": [
              "<Figure size 432x288 with 1 Axes>"
            ]
          },
          "metadata": {
            "tags": [],
            "needs_background": "light"
          }
        }
      ]
    },
    {
      "cell_type": "code",
      "metadata": {
        "id": "TAXc9TGt2Lto",
        "colab_type": "code",
        "colab": {
          "base_uri": "https://localhost:8080/",
          "height": 265
        },
        "outputId": "9ad7ddd4-1547-4266-891b-2df71b5785c5"
      },
      "source": [
        "plt.plot(history.history['loss'] ,color = 'yellow' ,label = 'Training Loss')\n",
        "plt.plot(history.history['val_loss'] ,color = 'cyan' , label = 'Validation Loss')\n",
        "plt.legend()\n",
        "plt.show()"
      ],
      "execution_count": 17,
      "outputs": [
        {
          "output_type": "display_data",
          "data": {
            "image/png": "[encoded data removed]",
            "text/plain": [
              "<Figure size 432x288 with 1 Axes>"
            ]
          },
          "metadata": {
            "tags": [],
            "needs_background": "light"
          }
        }
      ]
    },
    {
      "cell_type": "markdown",
      "metadata": {
        "id": "lQWeMtAo_3ti",
        "colab_type": "text"
      },
      "source": [
        "### Predict the labels for the Testing data and print Testing Accuracy"
      ]
    },
    {
      "cell_type": "code",
      "metadata": {
        "id": "1ysXvsoitPxK",
        "colab_type": "code",
        "colab": {}
      },
      "source": [
        "Y_predict = model.predict(X_test , batch_size = 20)"
      ],
      "execution_count": 0,
      "outputs": []
    },
    {
      "cell_type": "code",
      "metadata": {
        "id": "8fnL5uKuzjf7",
        "colab_type": "code",
        "colab": {
          "base_uri": "https://localhost:8080/",
          "height": 134
        },
        "outputId": "88a9abed-223f-4175-ba5a-3a966c825d2f"
      },
      "source": [
        "print(Y_predict)"
      ],
      "execution_count": 19,
      "outputs": [
        {
          "output_type": "stream",
          "text": [
            "[[9.9870133e-01 1.2987013e-03]\n",
            " [2.1501302e-10 1.0000000e+00]\n",
            " [1.3456920e-02 9.8654306e-01]\n",
            " ...\n",
            " [9.9979252e-01 2.0749240e-04]\n",
            " [9.9868172e-01 1.3182390e-03]\n",
            " [7.6548918e-03 9.9234515e-01]]\n"
          ],
          "name": "stdout"
        }
      ]
    },
    {
      "cell_type": "code",
      "metadata": {
        "id": "NP2PJTc2uafp",
        "colab_type": "code",
        "colab": {
          "base_uri": "https://localhost:8080/",
          "height": 33
        },
        "outputId": "19f114de-fe6b-43fe-afab-492e679d5171"
      },
      "source": [
        "Y_predict = np.argmax(Y_predict , axis = 1)\n",
        "print(\"Testing Accuracy = \" , np.mean(Y_predict==Ytest)*100 , \"%\")"
      ],
      "execution_count": 20,
      "outputs": [
        {
          "output_type": "stream",
          "text": [
            "Testing Accuracy =  85.576 %\n"
          ],
          "name": "stdout"
        }
      ]
    },
    {
      "cell_type": "markdown",
      "metadata": {
        "id": "8vZ3Bop1AANG",
        "colab_type": "text"
      },
      "source": [
        "Get the Vocabulary and define the Inverse_vocabulary for this model"
      ]
    },
    {
      "cell_type": "code",
      "metadata": {
        "id": "lMbaFTMxucZY",
        "colab_type": "code",
        "colab": {}
      },
      "source": [
        "Vocabulary = imdb.get_word_index(path=\"imdb_word_index.json\")\n",
        "Vocabulary['<ooV>'] = 0"
      ],
      "execution_count": 0,
      "outputs": []
    },
    {
      "cell_type": "code",
      "metadata": {
        "id": "vR0nYMTi5oHI",
        "colab_type": "code",
        "colab": {}
      },
      "source": [
        "Inverse_Vocabulary =  {values: keys for keys, values in Vocabulary.items()}"
      ],
      "execution_count": 0,
      "outputs": []
    },
    {
      "cell_type": "markdown",
      "metadata": {
        "id": "s3CxQYjTAGA5",
        "colab_type": "text"
      },
      "source": [
        "### Print the review for the first Training example \n",
        "#### (Missing words are encoded as <ooV>)"
      ]
    },
    {
      "cell_type": "code",
      "metadata": {
        "id": "VP1jDzZO60qJ",
        "colab_type": "code",
        "colab": {
          "base_uri": "https://localhost:8080/",
          "height": 70
        },
        "outputId": "0f8e131f-a731-4b63-e830-084c6c4a721f"
      },
      "source": [
        "print(\" \".join([Inverse_Vocabulary[x] for x in Xtrain[0]]))\n",
        "print(Ytrain[0])"
      ],
      "execution_count": 27,
      "outputs": [
        {
          "output_type": "stream",
          "text": [
            "the as you with out themselves powerful lets loves their becomes reaching had journalist of lot from anyone to have after out atmosphere never more room <ooV> it so heart shows to years of every never going <ooV> help moments or of every chest visual movie except her was several of enough more with is now current film as you of mine potentially unfortunately of you than him that with out themselves her get for was camp of you movie sometimes movie that with scary but pratfalls to story wonderful that in seeing in character to of 70s musicians with heart had shadows they of here that with her serious to have does when from why what have critics they is you that isn't one will very to as itself with other tricky in of seen over landed for anyone of <ooV> br show's to whether from than out themselves history he name half some br of 'n odd was two most of mean for 1 any an boat she he should is thought frog but of script you not while history he heart to real at barrel but when from one bit then have two of script their with her nobody most that with wasn't to with armed acting watch an for with heartfelt film want an\n",
            "1\n"
          ],
          "name": "stdout"
        }
      ]
    },
    {
      "cell_type": "markdown",
      "metadata": {
        "id": "-viHtDI0ARE7",
        "colab_type": "text"
      },
      "source": [
        "### A function for a custom User input"
      ]
    },
    {
      "cell_type": "code",
      "metadata": {
        "id": "IrutDFZW5_Jj",
        "colab_type": "code",
        "colab": {}
      },
      "source": [
        "def user_input(sentence):\n",
        "\n",
        "  sentence = sentence.lower()\n",
        "  sequence = np.array([Vocabulary[x] for x in sentence.split(\" \")])\n",
        "  temp = np.zeros((1,20000) , dtype = 'int64')\n",
        "  for i in range(19999 , 19999-len(sequence) , -1):\n",
        "    temp[0,i] = temp[0,i] + sequence[19999-i] \n",
        "  sequence = temp\n",
        "  sequence = Vectorize(sequence)\n",
        "  y = model.predict(sequence)\n",
        "  y = np.argmax(y , axis = 1)\n",
        "  if y==0:\n",
        "    return \"Positive review\"\n",
        "  else:\n",
        "    return \"Negative Review\""
      ],
      "execution_count": 0,
      "outputs": []
    },
    {
      "cell_type": "markdown",
      "metadata": {
        "id": "wuEb8dEHAVA8",
        "colab_type": "text"
      },
      "source": [
        "### Some Examples"
      ]
    },
    {
      "cell_type": "code",
      "metadata": {
        "id": "UwUAyVNz7X94",
        "colab_type": "code",
        "colab": {
          "base_uri": "https://localhost:8080/",
          "height": 33
        },
        "outputId": "5faa5a39-ccab-41a4-c80a-4df88149bc7f"
      },
      "source": [
        "print(user_input(\"Absolutely amazing movie\"))"
      ],
      "execution_count": 59,
      "outputs": [
        {
          "output_type": "stream",
          "text": [
            "Positive review\n"
          ],
          "name": "stdout"
        }
      ]
    },
    {
      "cell_type": "code",
      "metadata": {
        "id": "YcB-Qk9V7cui",
        "colab_type": "code",
        "colab": {
          "base_uri": "https://localhost:8080/",
          "height": 33
        },
        "outputId": "18cb13ba-7866-41be-e7b3-ca467b88d6a7"
      },
      "source": [
        "print(user_input(\"The Movie was so absolutely amazing that it was terrible\"))"
      ],
      "execution_count": 63,
      "outputs": [
        {
          "output_type": "stream",
          "text": [
            "Positive review\n"
          ],
          "name": "stdout"
        }
      ]
    },
    {
      "cell_type": "code",
      "metadata": {
        "id": "TQVtpSCd-crN",
        "colab_type": "code",
        "colab": {
          "base_uri": "https://localhost:8080/",
          "height": 33
        },
        "outputId": "73e3cb38-09c1-453a-c2b7-7dd0ff16beb3"
      },
      "source": [
        "print(user_input(\"The Movie was so astoundingly terrible that it put a smile on my face\"))"
      ],
      "execution_count": 65,
      "outputs": [
        {
          "output_type": "stream",
          "text": [
            "Negative Review\n"
          ],
          "name": "stdout"
        }
      ]
    },
    {
      "cell_type": "code",
      "metadata": {
        "id": "va-np_xI_B1h",
        "colab_type": "code",
        "colab": {
          "base_uri": "https://localhost:8080/",
          "height": 33
        },
        "outputId": "e664339e-03e1-4da1-aa86-a2d9aa420ac0"
      },
      "source": [
        "print(user_input(\"Movie was disgusting\"))"
      ],
      "execution_count": 66,
      "outputs": [
        {
          "output_type": "stream",
          "text": [
            "Negative Review\n"
          ],
          "name": "stdout"
        }
      ]
    },
    {
      "cell_type": "code",
      "metadata": {
        "id": "8hg82yWrBB9E",
        "colab_type": "code",
        "colab": {
          "base_uri": "https://localhost:8080/",
          "height": 33
        },
        "outputId": "132e016b-6b08-45ba-acbe-c038a6c97d06"
      },
      "source": [
        "print(user_input(\"Very good horrible movie\"))"
      ],
      "execution_count": 67,
      "outputs": [
        {
          "output_type": "stream",
          "text": [
            "Negative Review\n"
          ],
          "name": "stdout"
        }
      ]
    },
    {
      "cell_type": "code",
      "metadata": {
        "id": "ZNGAEuuoBO71",
        "colab_type": "code",
        "colab": {
          "base_uri": "https://localhost:8080/",
          "height": 33
        },
        "outputId": "d0fcaa98-5b63-4539-bc2a-89a3aefa3a60"
      },
      "source": [
        "print(user_input(\"Endgame movie is very good\"))"
      ],
      "execution_count": 68,
      "outputs": [
        {
          "output_type": "stream",
          "text": [
            "Positive review\n"
          ],
          "name": "stdout"
        }
      ]
    }
  ]
}