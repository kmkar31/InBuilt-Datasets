{
 "cells": [
  {
   "cell_type": "code",
   "execution_count": 19,
   "metadata": {},
   "outputs": [],
   "source": [
    "%matplotlib inline\n",
    "import keras\n",
    "import matplotlib.pyplot as plt\n",
    "import os\n",
    "import sklearn\n",
    "import numpy as np"
   ]
  },
  {
   "cell_type": "code",
   "execution_count": 2,
   "metadata": {},
   "outputs": [],
   "source": [
    "from keras.preprocessing import image"
   ]
  },
  {
   "cell_type": "markdown",
   "metadata": {},
   "source": [
    "### Split the Data into Directories to call ImageDataGenerator"
   ]
  },
  {
   "cell_type": "code",
   "execution_count": 18,
   "metadata": {},
   "outputs": [],
   "source": [
    "# Cats_vs_Dogs\n",
    "#|\n",
    "#|___ train __\n",
    "#|            |__ Cats\n",
    "#|            |\n",
    "#|            |__ Dogs\n",
    "#|\n",
    "#|\n",
    "#|___ validate __\n",
    "#                |__ Cats\n",
    "#                |\n",
    "#                |__ Dogs"
   ]
  },
  {
   "cell_type": "code",
   "execution_count": 3,
   "metadata": {},
   "outputs": [
    {
     "name": "stdout",
     "output_type": "stream",
     "text": [
      "Creation Done\n"
     ]
    }
   ],
   "source": [
    "data_directory = 'F:/Machine Learning/MLPrograms/Cats_Vs_Dogs'\n",
    "subdirectories = ['/train/' , '/validate/']\n",
    "for directory in subdirectories:\n",
    "    classes = ['cats/' , 'dogs/']\n",
    "    for c in classes:\n",
    "        newdir = data_directory + directory + c\n",
    "        os.makedirs(newdir , exist_ok = True)\n",
    "print(\"Creation Done\")"
   ]
  },
  {
   "cell_type": "code",
   "execution_count": 4,
   "metadata": {},
   "outputs": [],
   "source": [
    "from random import seed , random\n",
    "from shutil import copyfile"
   ]
  },
  {
   "cell_type": "markdown",
   "metadata": {},
   "source": [
    "### Copy Source files into the Created Directories\n",
    "\n",
    "##### Create train and validation datasets from the original training dataset"
   ]
  },
  {
   "cell_type": "code",
   "execution_count": 5,
   "metadata": {},
   "outputs": [
    {
     "name": "stdout",
     "output_type": "stream",
     "text": [
      "Directory already filled\n"
     ]
    }
   ],
   "source": [
    "if (len(os.listdir(data_directory + '/validate/cats'))==0):\n",
    "    \n",
    "    seed(1)\n",
    "    split_ratio = 0.25\n",
    "    source = 'F:/Machine Learning/MLPrograms/Cats Vs Dogs/train/train'\n",
    "    dirs = 'F:/Machine Learning/MLPrograms/Cats_Vs_Dogs'\n",
    "    for file in os.listdir(source):\n",
    "        sub = '/train'\n",
    "        if random()<split_ratio:\n",
    "            sub = '/validate'\n",
    "        if file.startswith('cat'):\n",
    "            destination = dirs + sub + '/cats/' + file\n",
    "        else:\n",
    "            desination = dirs + sub + '/dogs/' + file\n",
    "        copyfile(source , destination)\n",
    "    print(\"Split Done\")\n",
    "else:\n",
    "    print(\"Directory already filled\")\n",
    "    \n",
    "source = 'F:/Machine Learning/MLPrograms/Cats Vs Dogs/test/test'\n",
    "destination = 'F:/Machine Learning/MLPrograms/Cats_Vs_Dogs/test'\n",
    "for file in os.listdir(source):\n",
    "    copyfile(source , destination)"
   ]
  },
  {
   "cell_type": "markdown",
   "metadata": {},
   "source": [
    "### Create ImageDataGenerators for training and validation datasets "
   ]
  },
  {
   "cell_type": "code",
   "execution_count": 6,
   "metadata": {},
   "outputs": [],
   "source": [
    "train_data_generator = image.ImageDataGenerator(rescale = 1.0/255.0 ,shear_range=0.2, zoom_range=0.2 , horizontal_flip = True , vertical_flip = True)\n",
    "validation_data_generator = image.ImageDataGenerator(rescale = 1.0/255.0)"
   ]
  },
  {
   "cell_type": "code",
   "execution_count": 7,
   "metadata": {},
   "outputs": [
    {
     "name": "stdout",
     "output_type": "stream",
     "text": [
      "Found 24500 images belonging to 2 classes.\n",
      "Found 500 images belonging to 2 classes.\n"
     ]
    }
   ],
   "source": [
    "train = train_data_generator.flow_from_directory('F:/Machine Learning/MLPrograms/Cats_Vs_Dogs/train/' , class_mode = 'binary' , batch_size = 100 , target_size = (128,128))\n",
    "validate = validation_data_generator.flow_from_directory('F:/Machine Learning/MLPrograms/Cats_Vs_Dogs/validate/' , class_mode = 'binary' , batch_size = 2 , target_size = (128,128))"
   ]
  },
  {
   "cell_type": "markdown",
   "metadata": {},
   "source": [
    "### Define the model"
   ]
  },
  {
   "cell_type": "code",
   "execution_count": 8,
   "metadata": {},
   "outputs": [],
   "source": [
    "from keras.models import Sequential\n",
    "from keras.layers import Dense , Conv2D , MaxPooling2D , Flatten , Dropout"
   ]
  },
  {
   "cell_type": "code",
   "execution_count": 9,
   "metadata": {},
   "outputs": [
    {
     "name": "stdout",
     "output_type": "stream",
     "text": [
      "WARNING:tensorflow:From C:\\Users\\kmkar\\anaconda3\\lib\\site-packages\\tensorflow\\python\\ops\\resource_variable_ops.py:435: colocate_with (from tensorflow.python.framework.ops) is deprecated and will be removed in a future version.\n",
      "Instructions for updating:\n",
      "Colocations handled automatically by placer.\n",
      "Model: \"sequential_1\"\n",
      "_________________________________________________________________\n",
      "Layer (type)                 Output Shape              Param #   \n",
      "=================================================================\n",
      "conv2d_1 (Conv2D)            (None, 126, 126, 32)      896       \n",
      "_________________________________________________________________\n",
      "dropout_1 (Dropout)          (None, 126, 126, 32)      0         \n",
      "_________________________________________________________________\n",
      "max_pooling2d_1 (MaxPooling2 (None, 63, 63, 32)        0         \n",
      "_________________________________________________________________\n",
      "conv2d_2 (Conv2D)            (None, 61, 61, 32)        9248      \n",
      "_________________________________________________________________\n",
      "dropout_2 (Dropout)          (None, 61, 61, 32)        0         \n",
      "_________________________________________________________________\n",
      "max_pooling2d_2 (MaxPooling2 (None, 30, 30, 32)        0         \n",
      "_________________________________________________________________\n",
      "conv2d_3 (Conv2D)            (None, 28, 28, 64)        18496     \n",
      "_________________________________________________________________\n",
      "dropout_3 (Dropout)          (None, 28, 28, 64)        0         \n",
      "_________________________________________________________________\n",
      "max_pooling2d_3 (MaxPooling2 (None, 14, 14, 64)        0         \n",
      "_________________________________________________________________\n",
      "flatten_1 (Flatten)          (None, 12544)             0         \n",
      "_________________________________________________________________\n",
      "dense_1 (Dense)              (None, 100)               1254500   \n",
      "_________________________________________________________________\n",
      "dropout_4 (Dropout)          (None, 100)               0         \n",
      "_________________________________________________________________\n",
      "dense_2 (Dense)              (None, 1)                 101       \n",
      "=================================================================\n",
      "Total params: 1,283,241\n",
      "Trainable params: 1,283,241\n",
      "Non-trainable params: 0\n",
      "_________________________________________________________________\n"
     ]
    }
   ],
   "source": [
    "model = Sequential()\n",
    "input_shape = (128,128,3)\n",
    "\n",
    "model.add(Conv2D(32 , kernel_size = (3,3) , strides = (1,1) , activation = 'relu' , kernel_initializer = 'he_uniform' , input_shape = input_shape))\n",
    "model.add(Dropout(0.2))\n",
    "model.add(MaxPooling2D(pool_size = (2,2) , strides = (2,2)))\n",
    "\n",
    "model.add(Conv2D(32 , kernel_size = (3,3) , strides = (1,1) , activation = 'relu', kernel_initializer = 'he_uniform'))\n",
    "model.add(Dropout(0.2))\n",
    "model.add(MaxPooling2D(pool_size = (2,2)))\n",
    "\n",
    "model.add(Conv2D(64 , kernel_size = (3,3) , strides = (1,1) , activation = 'relu', kernel_initializer = 'he_uniform'))\n",
    "model.add(Dropout(0.2))\n",
    "model.add(MaxPooling2D(pool_size = (2,2)))\n",
    "\n",
    "model.add(Flatten())\n",
    "model.add(Dense(100 , activation = 'relu'))\n",
    "model.add(Dropout(0.5))\n",
    "model.add(Dense(1 , activation = 'sigmoid'))\n",
    "\n",
    "model.summary()"
   ]
  },
  {
   "cell_type": "markdown",
   "metadata": {},
   "source": [
    "### Compile and Fit the model \n",
    "##### Optimizer : RMSprop  \n",
    "##### Loss Criterion : binary_crossentropy"
   ]
  },
  {
   "cell_type": "code",
   "execution_count": 10,
   "metadata": {},
   "outputs": [],
   "source": [
    "model.compile(optimizer = 'rmsprop', loss = 'binary_crossentropy' , metrics = ['accuracy'])"
   ]
  },
  {
   "cell_type": "code",
   "execution_count": 12,
   "metadata": {},
   "outputs": [
    {
     "name": "stdout",
     "output_type": "stream",
     "text": [
      "Epoch 1/5\n",
      "245/245 [==============================] - 577s 2s/step - loss: 0.5708 - accuracy: 0.7060 - val_loss: 0.5745 - val_accuracy: 0.7740\n",
      "Epoch 2/5\n",
      "245/245 [==============================] - 577s 2s/step - loss: 0.5521 - accuracy: 0.7241 - val_loss: 0.8731 - val_accuracy: 0.7540\n",
      "Epoch 3/5\n",
      "245/245 [==============================] - 579s 2s/step - loss: 0.5373 - accuracy: 0.7367 - val_loss: 0.3808 - val_accuracy: 0.7820\n",
      "Epoch 4/5\n",
      "245/245 [==============================] - 578s 2s/step - loss: 0.5234 - accuracy: 0.7451 - val_loss: 0.3182 - val_accuracy: 0.8220\n",
      "Epoch 5/5\n",
      "245/245 [==============================] - 577s 2s/step - loss: 0.5115 - accuracy: 0.7533 - val_loss: 0.4321 - val_accuracy: 0.8140\n"
     ]
    }
   ],
   "source": [
    "history = model.fit_generator(train ,validation_data = validate , epochs = 5 , verbose = 1)"
   ]
  },
  {
   "cell_type": "markdown",
   "metadata": {},
   "source": [
    "### Evaluate the Accuracy Metric"
   ]
  },
  {
   "cell_type": "code",
   "execution_count": 13,
   "metadata": {},
   "outputs": [
    {
     "name": "stdout",
     "output_type": "stream",
     "text": [
      "250/250 [==============================] - 3s 11ms/step\n",
      "> 81.400\n"
     ]
    }
   ],
   "source": [
    "_ , accuracy = model.evaluate_generator(validate  , verbose = 1)\n",
    "print('accuracy = ' , accuracy*100 , '%')"
   ]
  },
  {
   "cell_type": "markdown",
   "metadata": {},
   "source": [
    "### Plot Loss and Accuracy for training and validation datasets "
   ]
  },
  {
   "cell_type": "code",
   "execution_count": 17,
   "metadata": {},
   "outputs": [
    {
     "data": {
      "image/png": "[encoded data removed]",
      "text/plain": [
       "<Figure size 432x288 with 1 Axes>"
      ]
     },
     "metadata": {
      "needs_background": "light"
     },
     "output_type": "display_data"
    },
    {
     "data": {
      "image/png": "[encoded data removed]",
      "text/plain": [
       "<Figure size 432x288 with 1 Axes>"
      ]
     },
     "metadata": {
      "needs_background": "light"
     },
     "output_type": "display_data"
    }
   ],
   "source": [
    "\n",
    "plt.title(\"Binary_CrossEntropy Loss\")\n",
    "plt.plot(history.history['loss'] , color = 'blue' , label = 'training loss')\n",
    "plt.plot(history.history['val_loss'] , color = 'red' , label = 'validation loss')\n",
    "\n",
    "plt.show()\n",
    "\n",
    "plt.title(\"Accuracy\")\n",
    "plt.plot(history.history['accuracy'] , color = 'cyan' , label = 'training accuracy')\n",
    "plt.plot(history.history['val_accuracy'] , color = 'orange' , label = 'validation accuracy')\n",
    "\n",
    "plt.show()"
   ]
  },
  {
   "cell_type": "markdown",
   "metadata": {},
   "source": [
    "### Save the weights to a hdf5 file"
   ]
  },
  {
   "cell_type": "code",
   "execution_count": null,
   "metadata": {},
   "outputs": [],
   "source": [
    "model.save_weights('CvD_keras_weights.h5')"
   ]
  },
  {
   "cell_type": "markdown",
   "metadata": {},
   "source": [
    "### Save the model to a JSON file"
   ]
  },
  {
   "cell_type": "code",
   "execution_count": null,
   "metadata": {},
   "outputs": [],
   "source": [
    "from keras.models import model_from_json"
   ]
  },
  {
   "cell_type": "code",
   "execution_count": null,
   "metadata": {},
   "outputs": [],
   "source": [
    "model_json = model.to_json()\n",
    "with open(\"CvD_keras_model.json\", \"w\") as json_file:\n",
    "    json_file.write(model_json)"
   ]
  },
  {
   "cell_type": "markdown",
   "metadata": {},
   "source": [
    "### Check Prediction.ipynb for Model Predictions"
   ]
  }
 ],
 "metadata": {
  "kernelspec": {
   "display_name": "Python 3",
   "language": "python",
   "name": "python3"
  },
  "language_info": {
   "codemirror_mode": {
    "name": "ipython",
    "version": 3
   },
   "file_extension": ".py",
   "mimetype": "text/x-python",
   "name": "python",
   "nbconvert_exporter": "python",
   "pygments_lexer": "ipython3",
   "version": "3.7.6"
  }
 },
 "nbformat": 4,
 "nbformat_minor": 4
}
