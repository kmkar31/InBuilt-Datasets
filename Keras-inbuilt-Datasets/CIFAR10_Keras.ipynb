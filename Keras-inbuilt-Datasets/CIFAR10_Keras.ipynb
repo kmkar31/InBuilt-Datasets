{
  "nbformat": 4,
  "nbformat_minor": 0,
  "metadata": {
    "kernelspec": {
      "display_name": "Python 3",
      "language": "python",
      "name": "python3"
    },
    "language_info": {
      "codemirror_mode": {
        "name": "ipython",
        "version": 3
      },
      "file_extension": ".py",
      "mimetype": "text/x-python",
      "name": "python",
      "nbconvert_exporter": "python",
      "pygments_lexer": "ipython3",
      "version": "3.7.6"
    },
    "colab": {
      "name": "CIFAR10_Keras.ipynb",
      "provenance": [],
      "collapsed_sections": [],
      "include_colab_link": true
    }
  },
  "cells": [
    {
      "cell_type": "markdown",
      "metadata": {
        "id": "view-in-github",
        "colab_type": "text"
      },
      "source": [
        "<a href=\"https://colab.research.google.com/github/kmkar31/Keras-inbuilt-Datasets/blob/master/CIFAR10_Keras.ipynb\" target=\"_parent\"><img src=\"https://colab.research.google.com/assets/colab-badge.svg\" alt=\"Open In Colab\"/></a>"
      ]
    },
    {
      "cell_type": "markdown",
      "metadata": {
        "id": "QjGRGUKiKCbZ",
        "colab_type": "text"
      },
      "source": [
        "# **CIFAR10 Data with Keras Pre-trained Models**"
      ]
    },
    {
      "cell_type": "markdown",
      "metadata": {
        "id": "0U1QFhzUKCba",
        "colab_type": "text"
      },
      "source": [
        "#### VGG19 , VGG18 and ResNet50 were tried . The best result was given by the ResNet50 model. "
      ]
    },
    {
      "cell_type": "code",
      "metadata": {
        "id": "4qF_yFgjKCbb",
        "colab_type": "code",
        "colab": {
          "base_uri": "https://localhost:8080/",
          "height": 33
        },
        "outputId": "0d79b58c-f05a-4544-8123-0e230d9e6ed7"
      },
      "source": [
        "import keras\n",
        "import matplotlib.pyplot as plt\n",
        "import numpy as np\n",
        "%matplotlib inline"
      ],
      "execution_count": 1,
      "outputs": [
        {
          "output_type": "stream",
          "text": [
            "Using TensorFlow backend.\n"
          ],
          "name": "stderr"
        }
      ]
    },
    {
      "cell_type": "code",
      "metadata": {
        "id": "mMXc7EY_KCbe",
        "colab_type": "code",
        "colab": {}
      },
      "source": [
        "from keras.datasets import cifar10"
      ],
      "execution_count": 0,
      "outputs": []
    },
    {
      "cell_type": "markdown",
      "metadata": {
        "id": "PCHyx8fTKCbg",
        "colab_type": "text"
      },
      "source": [
        "### Load Data from keras.datasets"
      ]
    },
    {
      "cell_type": "code",
      "metadata": {
        "id": "SZscPp2vKCbh",
        "colab_type": "code",
        "colab": {}
      },
      "source": [
        "(Xtrain,Ytrain) , (Xtest , Ytest) = cifar10.load_data()"
      ],
      "execution_count": 0,
      "outputs": []
    },
    {
      "cell_type": "markdown",
      "metadata": {
        "id": "pn2kQhQdKCbj",
        "colab_type": "text"
      },
      "source": [
        "### One-hot encode the labels"
      ]
    },
    {
      "cell_type": "code",
      "metadata": {
        "id": "pZpKT-vAKCbj",
        "colab_type": "code",
        "colab": {}
      },
      "source": [
        "Ytrain = keras.utils.to_categorical(Ytrain , num_classes = 10)"
      ],
      "execution_count": 0,
      "outputs": []
    },
    {
      "cell_type": "code",
      "metadata": {
        "id": "O6MKXyhHKCbm",
        "colab_type": "code",
        "colab": {}
      },
      "source": [
        "from keras.models import Sequential\n",
        "from keras.layers import Flatten , Dense"
      ],
      "execution_count": 0,
      "outputs": []
    },
    {
      "cell_type": "code",
      "metadata": {
        "id": "B-DGcmM9Mgbe",
        "colab_type": "code",
        "colab": {}
      },
      "source": [
        ""
      ],
      "execution_count": 0,
      "outputs": []
    },
    {
      "cell_type": "markdown",
      "metadata": {
        "id": "3-OZ4aGlLdKB",
        "colab_type": "text"
      },
      "source": [
        "## **VGG19**\n"
      ]
    },
    {
      "cell_type": "code",
      "metadata": {
        "id": "F9HN0-6ILcC7",
        "colab_type": "code",
        "colab": {
          "base_uri": "https://localhost:8080/",
          "height": 251
        },
        "outputId": "a2daeea0-8331-4095-ac05-720b132f005d"
      },
      "source": [
        "model1 = Sequential()\n",
        "model1.add(keras.applications.VGG19(include_top = False , input_shape = (32,32,3)))\n",
        "model1.add(Flatten())\n",
        "model1.add(Dense(10 , activation = 'softmax'))\n",
        "\n",
        "model1.summary()"
      ],
      "execution_count": 6,
      "outputs": [
        {
          "output_type": "stream",
          "text": [
            "Model: \"sequential_1\"\n",
            "_________________________________________________________________\n",
            "Layer (type)                 Output Shape              Param #   \n",
            "=================================================================\n",
            "vgg19 (Model)                (None, 1, 1, 512)         20024384  \n",
            "_________________________________________________________________\n",
            "flatten_1 (Flatten)          (None, 512)               0         \n",
            "_________________________________________________________________\n",
            "dense_1 (Dense)              (None, 10)                5130      \n",
            "=================================================================\n",
            "Total params: 20,029,514\n",
            "Trainable params: 20,029,514\n",
            "Non-trainable params: 0\n",
            "_________________________________________________________________\n"
          ],
          "name": "stdout"
        }
      ]
    },
    {
      "cell_type": "markdown",
      "metadata": {
        "id": "QuwaZ0spLz9T",
        "colab_type": "text"
      },
      "source": [
        "### Compile and Run the model"
      ]
    },
    {
      "cell_type": "code",
      "metadata": {
        "id": "oT65K6eJLcHi",
        "colab_type": "code",
        "colab": {}
      },
      "source": [
        "model1.compile(optimizer = 'adam' , loss = 'categorical_crossentropy' , metrics = ['accuracy'])"
      ],
      "execution_count": 0,
      "outputs": []
    },
    {
      "cell_type": "code",
      "metadata": {
        "id": "b2xdkCqvLcMU",
        "colab_type": "code",
        "colab": {
          "base_uri": "https://localhost:8080/",
          "height": 50
        },
        "outputId": "16e3cbfa-9ef2-467e-b5a0-47c01f6b11b2"
      },
      "source": [
        "history = model1.fit(Xtrain,Ytrain , batch_size = 500 , epochs = 15 , verbose = 1)"
      ],
      "execution_count": 0,
      "outputs": [
        {
          "output_type": "stream",
          "text": [
            "Epoch 1/15\n",
            "  500/50000 [..............................] - ETA: 1:44:39 - loss: 38.7300 - accuracy: 0.0720"
          ],
          "name": "stdout"
        }
      ]
    },
    {
      "cell_type": "markdown",
      "metadata": {
        "id": "P6NVuMmTL2u_",
        "colab_type": "text"
      },
      "source": [
        "### Plot Loss as a function of Epochs"
      ]
    },
    {
      "cell_type": "code",
      "metadata": {
        "id": "J8huKiDCLcRK",
        "colab_type": "code",
        "colab": {}
      },
      "source": [
        "plt.plot(history.history['loss'])"
      ],
      "execution_count": 0,
      "outputs": []
    },
    {
      "cell_type": "markdown",
      "metadata": {
        "id": "Bu1bNTAeL6DM",
        "colab_type": "text"
      },
      "source": [
        "### Predict and Print the accuracy of the prediction"
      ]
    },
    {
      "cell_type": "code",
      "metadata": {
        "id": "Esi3x_RcLcYG",
        "colab_type": "code",
        "colab": {}
      },
      "source": [
        "yhat = model1.predict(Xtest)\n",
        "y_predict = np.argmax(yhat , axis = 1)"
      ],
      "execution_count": 0,
      "outputs": []
    },
    {
      "cell_type": "code",
      "metadata": {
        "id": "4fhznpq5LceW",
        "colab_type": "code",
        "colab": {}
      },
      "source": [
        "# Converting y_predict from a row vector to a column vector\n",
        "y_predict = y_predict.reshape(-1,1)\n",
        "y_predict"
      ],
      "execution_count": 0,
      "outputs": []
    },
    {
      "cell_type": "code",
      "metadata": {
        "id": "I7OtwV3NLckR",
        "colab_type": "code",
        "colab": {}
      },
      "source": [
        "print(\"VGG18 Accuracy = \" , np.mean(y_predict==Ytest)*100 , '%')"
      ],
      "execution_count": 0,
      "outputs": []
    },
    {
      "cell_type": "markdown",
      "metadata": {
        "id": "TXpp9LIzKu2F",
        "colab_type": "text"
      },
      "source": [
        "## **VGG18**"
      ]
    },
    {
      "cell_type": "code",
      "metadata": {
        "id": "IlQwgFw1KLuk",
        "colab_type": "code",
        "colab": {}
      },
      "source": [
        "model2 = Sequential()\n",
        "model2.add(keras.applications.VGG18(include_top = False , input_shape = (32,32,3)))\n",
        "model2.add(Flatten())\n",
        "model2.add(Dense(10 , activation = 'softmax'))\n",
        "\n",
        "model2.summary()"
      ],
      "execution_count": 0,
      "outputs": []
    },
    {
      "cell_type": "markdown",
      "metadata": {
        "id": "G252r7eELBl8",
        "colab_type": "text"
      },
      "source": [
        "### Compile and Run the model"
      ]
    },
    {
      "cell_type": "code",
      "metadata": {
        "id": "kKbLzMW-KU0N",
        "colab_type": "code",
        "colab": {}
      },
      "source": [
        "model2.compile(optimizer = 'adam' , loss = 'categorical_crossentropy' , metrics = ['accuracy'])"
      ],
      "execution_count": 0,
      "outputs": []
    },
    {
      "cell_type": "code",
      "metadata": {
        "id": "9NfKQjgVKYiS",
        "colab_type": "code",
        "colab": {}
      },
      "source": [
        "history = model2.fit(Xtrain,Ytrain , batch_size = 500 , epochs = 15 , verbose = 1)"
      ],
      "execution_count": 0,
      "outputs": []
    },
    {
      "cell_type": "markdown",
      "metadata": {
        "id": "ybWdQPlDLHBu",
        "colab_type": "text"
      },
      "source": [
        "### Plot Loss as a function of Epochs"
      ]
    },
    {
      "cell_type": "code",
      "metadata": {
        "id": "vYp8BnmmKevM",
        "colab_type": "code",
        "colab": {}
      },
      "source": [
        "plt.plot(history.history['loss'])"
      ],
      "execution_count": 0,
      "outputs": []
    },
    {
      "cell_type": "markdown",
      "metadata": {
        "id": "CPYOM-A7LIwp",
        "colab_type": "text"
      },
      "source": [
        "### Predict and Print the accuracy of the prediction"
      ]
    },
    {
      "cell_type": "code",
      "metadata": {
        "id": "oRhVPyElKiql",
        "colab_type": "code",
        "colab": {}
      },
      "source": [
        "yhat = model2.predict(Xtest)\n",
        "y_predict = np.argmax(yhat , axis = 1)"
      ],
      "execution_count": 0,
      "outputs": []
    },
    {
      "cell_type": "code",
      "metadata": {
        "id": "3dFO8by9Klyj",
        "colab_type": "code",
        "colab": {}
      },
      "source": [
        "# Converting y_predict from a row vector to a column vector\n",
        "y_predict = y_predict.reshape(-1,1)\n",
        "y_predict"
      ],
      "execution_count": 0,
      "outputs": []
    },
    {
      "cell_type": "code",
      "metadata": {
        "id": "-_o7O6TRKo_d",
        "colab_type": "code",
        "colab": {}
      },
      "source": [
        "print(\"VGG18 Accuracy = \" , np.mean(y_predict==Ytest)*100 , '%')"
      ],
      "execution_count": 0,
      "outputs": []
    },
    {
      "cell_type": "markdown",
      "metadata": {
        "id": "C1YFV_gRKCbo",
        "colab_type": "text"
      },
      "source": [
        "## **ResNet50**\n",
        "\n",
        "\n"
      ]
    },
    {
      "cell_type": "markdown",
      "metadata": {
        "id": "XdaaXjfEKCbp",
        "colab_type": "text"
      },
      "source": [
        "#### Flatten the output and pass it to the output Layer"
      ]
    },
    {
      "cell_type": "code",
      "metadata": {
        "id": "1vguu4MSKCbq",
        "colab_type": "code",
        "colab": {
          "base_uri": "https://localhost:8080/",
          "height": 338
        },
        "outputId": "3dca91c7-87ac-46b3-c10f-9b2db912188a"
      },
      "source": [
        "model3 = Sequential()\n",
        "model3.add(keras.applications.ResNet50(include_top = False , input_shape = (32,32,3)))\n",
        "model3.add(Flatten())\n",
        "model3.add(Dense(10 , activation = 'softmax'))\n",
        "\n",
        "model3.summary()"
      ],
      "execution_count": 6,
      "outputs": [
        {
          "output_type": "stream",
          "text": [
            "/usr/local/lib/python3.6/dist-packages/keras_applications/resnet50.py:265: UserWarning: The output shape of `ResNet50(include_top=False)` has been changed since Keras 2.2.0.\n",
            "  warnings.warn('The output shape of `ResNet50(include_top=False)` '\n"
          ],
          "name": "stderr"
        },
        {
          "output_type": "stream",
          "text": [
            "Downloading data from https://github.com/fchollet/deep-learning-models/releases/download/v0.2/resnet50_weights_tf_dim_ordering_tf_kernels_notop.h5\n",
            "94658560/94653016 [==============================] - 1s 0us/step\n",
            "Model: \"sequential_1\"\n",
            "_________________________________________________________________\n",
            "Layer (type)                 Output Shape              Param #   \n",
            "=================================================================\n",
            "resnet50 (Model)             (None, 1, 1, 2048)        23587712  \n",
            "_________________________________________________________________\n",
            "flatten_1 (Flatten)          (None, 2048)              0         \n",
            "_________________________________________________________________\n",
            "dense_1 (Dense)              (None, 10)                20490     \n",
            "=================================================================\n",
            "Total params: 23,608,202\n",
            "Trainable params: 23,555,082\n",
            "Non-trainable params: 53,120\n",
            "_________________________________________________________________\n"
          ],
          "name": "stdout"
        }
      ]
    },
    {
      "cell_type": "markdown",
      "metadata": {
        "id": "-xp_groWKCbt",
        "colab_type": "text"
      },
      "source": [
        "### Compile and Run the model"
      ]
    },
    {
      "cell_type": "code",
      "metadata": {
        "id": "iK9Qa0VnKCbt",
        "colab_type": "code",
        "colab": {}
      },
      "source": [
        "model3.compile(optimizer = 'adam' , loss = 'categorical_crossentropy' , metrics = ['accuracy'])"
      ],
      "execution_count": 0,
      "outputs": []
    },
    {
      "cell_type": "code",
      "metadata": {
        "id": "M26bpVAPKCbv",
        "colab_type": "code",
        "colab": {
          "base_uri": "https://localhost:8080/",
          "height": 50
        },
        "outputId": "94b28927-2cc2-4a8d-89a8-9924e06d5fc8"
      },
      "source": [
        "history = model3.fit(Xtrain,Ytrain , batch_size = 500 , epochs = 15 , verbose = 1)"
      ],
      "execution_count": 0,
      "outputs": [
        {
          "output_type": "stream",
          "text": [
            "Epoch 1/15\n",
            " 3500/50000 [=>............................] - ETA: 59:12 - loss: 2.5683 - accuracy: 0.2760  "
          ],
          "name": "stdout"
        }
      ]
    },
    {
      "cell_type": "markdown",
      "metadata": {
        "id": "upqAzlBvKCbx",
        "colab_type": "text"
      },
      "source": [
        "### Plot Loss as a function of Epochs"
      ]
    },
    {
      "cell_type": "code",
      "metadata": {
        "id": "wrSG5gdgKCbx",
        "colab_type": "code",
        "colab": {}
      },
      "source": [
        "plt.plot(history.history['loss'])"
      ],
      "execution_count": 0,
      "outputs": []
    },
    {
      "cell_type": "markdown",
      "metadata": {
        "id": "htctzLklKCb1",
        "colab_type": "text"
      },
      "source": [
        "### Predict and Print the accuracy of the prediction"
      ]
    },
    {
      "cell_type": "code",
      "metadata": {
        "id": "yMi_FJrPKCb1",
        "colab_type": "code",
        "colab": {}
      },
      "source": [
        "yhat = model3.predict(Xtest)\n",
        "y_predict = np.argmax(yhat , axis = 1)"
      ],
      "execution_count": 0,
      "outputs": []
    },
    {
      "cell_type": "code",
      "metadata": {
        "id": "eQnegSaGKCb3",
        "colab_type": "code",
        "colab": {}
      },
      "source": [
        "# Converting y_predict from a row vector to a column vector\n",
        "y_predict = y_predict.reshape(-1,1)\n",
        "y_predict"
      ],
      "execution_count": 0,
      "outputs": []
    },
    {
      "cell_type": "code",
      "metadata": {
        "id": "SBkA9niZKCb6",
        "colab_type": "code",
        "colab": {}
      },
      "source": [
        "Ytest"
      ],
      "execution_count": 0,
      "outputs": []
    },
    {
      "cell_type": "code",
      "metadata": {
        "id": "Xyey4yeoKCb9",
        "colab_type": "code",
        "colab": {}
      },
      "source": [
        "print(\"ResNet50 Accuracy = \" , np.mean(y_predict==Ytest)*100 , '%')"
      ],
      "execution_count": 0,
      "outputs": []
    },
    {
      "cell_type": "markdown",
      "metadata": {
        "id": "I9-JDdhoKCcA",
        "colab_type": "text"
      },
      "source": [
        "## Using **Augmented Data** with **ResNet50**"
      ]
    },
    {
      "cell_type": "markdown",
      "metadata": {
        "id": "0-Shv1XxKCcA",
        "colab_type": "text"
      },
      "source": [
        "#### The transpose occurs along the second and third dimensions. "
      ]
    },
    {
      "cell_type": "markdown",
      "metadata": {
        "id": "4gXSj1XvKCcB",
        "colab_type": "text"
      },
      "source": [
        "#### This is equivalent to rotating the image by 90 degrees clockwise and then flipping vertically\n",
        "#### Or rotating by 90 degrees counter-clockwise and flipping horizontally"
      ]
    },
    {
      "cell_type": "code",
      "metadata": {
        "id": "2NWY1MC9KCcB",
        "colab_type": "code",
        "colab": {}
      },
      "source": [
        "def transpose(X):\n",
        "    temp = []\n",
        "    for x in X:\n",
        "        temp.append(np.transpose(x , axes = (1,0,2)))\n",
        "    return temp"
      ],
      "execution_count": 0,
      "outputs": []
    },
    {
      "cell_type": "markdown",
      "metadata": {
        "id": "OE8sB_5VKCcD",
        "colab_type": "text"
      },
      "source": [
        "### Add the data to the original data"
      ]
    },
    {
      "cell_type": "code",
      "metadata": {
        "id": "9FtI6rzMKCcE",
        "colab_type": "code",
        "colab": {}
      },
      "source": [
        "temp = transpose(Xtrain)\n",
        "len(temp)"
      ],
      "execution_count": 0,
      "outputs": []
    },
    {
      "cell_type": "code",
      "metadata": {
        "id": "ZwwocOc3KCcG",
        "colab_type": "code",
        "colab": {}
      },
      "source": [
        "Xtrain = np.concatenate((Xtrain,temp))\n",
        "Ytrain = np.concatenate((Ytrain,Ytrain))"
      ],
      "execution_count": 0,
      "outputs": []
    },
    {
      "cell_type": "markdown",
      "metadata": {
        "id": "nDW74_GhKCcI",
        "colab_type": "text"
      },
      "source": [
        "### Display the fourth image in the dataset before and after it is augmented"
      ]
    },
    {
      "cell_type": "code",
      "metadata": {
        "id": "5E_SfhmmKCcJ",
        "colab_type": "code",
        "colab": {}
      },
      "source": [
        "from PIL import Image"
      ],
      "execution_count": 0,
      "outputs": []
    },
    {
      "cell_type": "code",
      "metadata": {
        "id": "Wl7_14QYKCcK",
        "colab_type": "code",
        "colab": {}
      },
      "source": [
        "plt.imshow(Image.fromarray(Xtrain[3]))"
      ],
      "execution_count": 0,
      "outputs": []
    },
    {
      "cell_type": "code",
      "metadata": {
        "id": "mASPClZiKCcM",
        "colab_type": "code",
        "colab": {}
      },
      "source": [
        "plt.imshow(Image.fromarray(Xtrain[50003]))"
      ],
      "execution_count": 0,
      "outputs": []
    },
    {
      "cell_type": "markdown",
      "metadata": {
        "id": "ds6yrJfBKCcO",
        "colab_type": "text"
      },
      "source": [
        "### Shuffle the combined Datasets"
      ]
    },
    {
      "cell_type": "code",
      "metadata": {
        "id": "9rTMAXkbKCcO",
        "colab_type": "code",
        "colab": {}
      },
      "source": [
        "from sklearn.utils import shuffle\n",
        "Xtrain , Ytrain = shuffle(Xtrain , Ytrain)"
      ],
      "execution_count": 0,
      "outputs": []
    },
    {
      "cell_type": "markdown",
      "metadata": {
        "id": "C0DRLhihKCcR",
        "colab_type": "text"
      },
      "source": [
        "### Compile and train the model"
      ]
    },
    {
      "cell_type": "code",
      "metadata": {
        "id": "eIkWMUQdKCcR",
        "colab_type": "code",
        "colab": {}
      },
      "source": [
        "history = model3.fit(Xtrain , Ytrain , batch_size = 500 , epochs = 15 , verbose = 1)"
      ],
      "execution_count": 0,
      "outputs": []
    },
    {
      "cell_type": "markdown",
      "metadata": {
        "id": "44WQN8ICKCcT",
        "colab_type": "text"
      },
      "source": [
        "### Plot the Training Loss vs Epoch Graph"
      ]
    },
    {
      "cell_type": "code",
      "metadata": {
        "id": "7F55pzgrKCcT",
        "colab_type": "code",
        "colab": {}
      },
      "source": [
        "plt.plot(history.history['loss'])"
      ],
      "execution_count": 0,
      "outputs": []
    },
    {
      "cell_type": "markdown",
      "metadata": {
        "id": "vsmGvwqLKCcW",
        "colab_type": "text"
      },
      "source": [
        "### Predict and Print the accuracy of prediction"
      ]
    },
    {
      "cell_type": "code",
      "metadata": {
        "id": "XJhaH0MmKCcW",
        "colab_type": "code",
        "colab": {}
      },
      "source": [
        "yhat = model3.predict(Xtest)\n",
        "y_predict = np.argmax(yhat , axis = 1)"
      ],
      "execution_count": 0,
      "outputs": []
    },
    {
      "cell_type": "code",
      "metadata": {
        "id": "ddmNs91tKCcY",
        "colab_type": "code",
        "colab": {}
      },
      "source": [
        "# Converting y_predict from a row vector to a column vector\n",
        "y_predict = y_predict.reshape(-1,1)\n",
        "y_predict"
      ],
      "execution_count": 0,
      "outputs": []
    },
    {
      "cell_type": "code",
      "metadata": {
        "id": "2Js4nU4OKCca",
        "colab_type": "code",
        "colab": {}
      },
      "source": [
        "print(Ytest)"
      ],
      "execution_count": 0,
      "outputs": []
    },
    {
      "cell_type": "code",
      "metadata": {
        "id": "jDI00gWWKCcc",
        "colab_type": "code",
        "colab": {}
      },
      "source": [
        "print(\"ResNet50 with Augmented Data Accuracy = \" , np.mean(y_predict==Ytest))"
      ],
      "execution_count": 0,
      "outputs": []
    }
  ]
}