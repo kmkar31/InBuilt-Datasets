{
  "nbformat": 4,
  "nbformat_minor": 0,
  "metadata": {
    "kernelspec": {
      "display_name": "Python 3",
      "language": "python",
      "name": "python3"
    },
    "language_info": {
      "codemirror_mode": {
        "name": "ipython",
        "version": 3
      },
      "file_extension": ".py",
      "mimetype": "text/x-python",
      "name": "python",
      "nbconvert_exporter": "python",
      "pygments_lexer": "ipython3",
      "version": "3.7.6"
    },
    "colab": {
      "name": "MNIST CNN with Keras.ipynb",
      "provenance": [],
      "include_colab_link": true
    }
  },
  "cells": [
    {
      "cell_type": "markdown",
      "metadata": {
        "id": "view-in-github",
        "colab_type": "text"
      },
      "source": [
        "<a href=\"https://colab.research.google.com/github/kmkar31/Keras-inbuilt-Datasets/blob/master/Fashion_MNIST_Keras.ipynb\" target=\"_parent\"><img src=\"https://colab.research.google.com/assets/colab-badge.svg\" alt=\"Open In Colab\"/></a>"
      ]
    },
    {
      "cell_type": "code",
      "metadata": {
        "id": "IJH-IEK9VAML",
        "colab_type": "code",
        "colab": {
          "base_uri": "https://localhost:8080/",
          "height": 33
        },
        "outputId": "022304ef-ded7-4ead-c0af-6e6eff728a27"
      },
      "source": [
        "import keras\n",
        "from keras.datasets import fashion_mnist\n",
        "import numpy as np"
      ],
      "execution_count": 1,
      "outputs": [
        {
          "output_type": "stream",
          "text": [
            "Using TensorFlow backend.\n"
          ],
          "name": "stderr"
        }
      ]
    },
    {
      "cell_type": "markdown",
      "metadata": {
        "id": "vUcvw7ZsVAMP",
        "colab_type": "text"
      },
      "source": [
        "### Loading the MNIST Dataset"
      ]
    },
    {
      "cell_type": "code",
      "metadata": {
        "id": "Io4UWzpSVAMP",
        "colab_type": "code",
        "colab": {
          "base_uri": "https://localhost:8080/",
          "height": 150
        },
        "outputId": "228a594f-3ff3-4bbf-c89c-cdedc42747df"
      },
      "source": [
        "(Xtrain , ytrain) , (Xtest , ytest) = fashion_mnist.load_data()"
      ],
      "execution_count": 2,
      "outputs": [
        {
          "output_type": "stream",
          "text": [
            "Downloading data from http://fashion-mnist.s3-website.eu-central-1.amazonaws.com/train-labels-idx1-ubyte.gz\n",
            "32768/29515 [=================================] - 0s 8us/step\n",
            "Downloading data from http://fashion-mnist.s3-website.eu-central-1.amazonaws.com/train-images-idx3-ubyte.gz\n",
            "26427392/26421880 [==============================] - 4s 0us/step\n",
            "Downloading data from http://fashion-mnist.s3-website.eu-central-1.amazonaws.com/t10k-labels-idx1-ubyte.gz\n",
            "8192/5148 [===============================================] - 0s 0us/step\n",
            "Downloading data from http://fashion-mnist.s3-website.eu-central-1.amazonaws.com/t10k-images-idx3-ubyte.gz\n",
            "4423680/4422102 [==============================] - 2s 0us/step\n"
          ],
          "name": "stdout"
        }
      ]
    },
    {
      "cell_type": "markdown",
      "metadata": {
        "id": "9jSzGHz1VAMS",
        "colab_type": "text"
      },
      "source": [
        "#### Reshaping and Normalizing training data"
      ]
    },
    {
      "cell_type": "code",
      "metadata": {
        "id": "Tlo9J-GuVAMS",
        "colab_type": "code",
        "colab": {}
      },
      "source": [
        "Xtrain = Xtrain.reshape(Xtrain.shape[0] , 28,28,1)\n",
        "Xtest = Xtest.reshape(Xtest.shape[0] , 28,28,1)"
      ],
      "execution_count": 0,
      "outputs": []
    },
    {
      "cell_type": "code",
      "metadata": {
        "id": "Z4H1EUS7VAMU",
        "colab_type": "code",
        "colab": {}
      },
      "source": [
        "Xtrain = Xtrain/255.0\n",
        "Xtest = Xtest/255.0"
      ],
      "execution_count": 0,
      "outputs": []
    },
    {
      "cell_type": "markdown",
      "metadata": {
        "id": "K_FBKNSUVAMW",
        "colab_type": "text"
      },
      "source": [
        "### Split the training set into training and validation sets"
      ]
    },
    {
      "cell_type": "code",
      "metadata": {
        "id": "4u182_pEVAMX",
        "colab_type": "code",
        "colab": {}
      },
      "source": [
        "Xvalidate = Xtrain[0:10000,:]\n",
        "Xtrain = Xtrain[10000:60000,:]\n",
        "\n",
        "yvalidate = ytrain[0:10000]\n",
        "ytrain = ytrain[10000:60000]"
      ],
      "execution_count": 0,
      "outputs": []
    },
    {
      "cell_type": "markdown",
      "metadata": {
        "id": "jKumi79ZVAMZ",
        "colab_type": "text"
      },
      "source": [
        "#### One-hot encoding labels"
      ]
    },
    {
      "cell_type": "code",
      "metadata": {
        "id": "fJTmf2lPVAMZ",
        "colab_type": "code",
        "colab": {}
      },
      "source": [
        "ytrain = keras.utils.to_categorical(ytrain)\n",
        "yvalidate = keras.utils.to_categorical(yvalidate)"
      ],
      "execution_count": 0,
      "outputs": []
    },
    {
      "cell_type": "markdown",
      "metadata": {
        "id": "VLb2JNQHVAMc",
        "colab_type": "text"
      },
      "source": [
        "### CNN Model"
      ]
    },
    {
      "cell_type": "code",
      "metadata": {
        "id": "nP3GoCofVAMc",
        "colab_type": "code",
        "colab": {}
      },
      "source": [
        "from keras.models import Sequential\n",
        "from keras.layers import Dense , Conv2D , MaxPooling2D , Flatten , Dropout"
      ],
      "execution_count": 0,
      "outputs": []
    },
    {
      "cell_type": "code",
      "metadata": {
        "id": "a6jJNM97VAMe",
        "colab_type": "code",
        "colab": {
          "base_uri": "https://localhost:8080/",
          "height": 485
        },
        "outputId": "278fb102-9124-477c-e40f-4ce072ad10c8"
      },
      "source": [
        "model = Sequential()\n",
        "input_shape = (28,28,1)\n",
        "\n",
        "model.add(Conv2D(32 , kernel_size = (3,3) , strides = (1,1) , activation = 'relu' , kernel_initializer = 'he_uniform' , input_shape = input_shape))\n",
        "model.add(Dropout(0.2))\n",
        "model.add(MaxPooling2D(pool_size = (2,2) , strides = (2,2)))\n",
        "\n",
        "model.add(Conv2D(32 , kernel_size = (3,3) , strides = (1,1) , activation = 'relu', kernel_initializer = 'he_uniform'))\n",
        "model.add(Dropout(0.2))\n",
        "model.add(MaxPooling2D(pool_size = (2,2)))\n",
        "\n",
        "model.add(Flatten())\n",
        "model.add(Dense(100 , activation = 'relu'))\n",
        "model.add(Dropout(0.5))\n",
        "model.add(Dense(10 , activation = 'softmax'))\n",
        "\n",
        "model.summary()"
      ],
      "execution_count": 8,
      "outputs": [
        {
          "output_type": "stream",
          "text": [
            "Model: \"sequential_1\"\n",
            "_________________________________________________________________\n",
            "Layer (type)                 Output Shape              Param #   \n",
            "=================================================================\n",
            "conv2d_1 (Conv2D)            (None, 26, 26, 32)        320       \n",
            "_________________________________________________________________\n",
            "dropout_1 (Dropout)          (None, 26, 26, 32)        0         \n",
            "_________________________________________________________________\n",
            "max_pooling2d_1 (MaxPooling2 (None, 13, 13, 32)        0         \n",
            "_________________________________________________________________\n",
            "conv2d_2 (Conv2D)            (None, 11, 11, 32)        9248      \n",
            "_________________________________________________________________\n",
            "dropout_2 (Dropout)          (None, 11, 11, 32)        0         \n",
            "_________________________________________________________________\n",
            "max_pooling2d_2 (MaxPooling2 (None, 5, 5, 32)          0         \n",
            "_________________________________________________________________\n",
            "flatten_1 (Flatten)          (None, 800)               0         \n",
            "_________________________________________________________________\n",
            "dense_1 (Dense)              (None, 100)               80100     \n",
            "_________________________________________________________________\n",
            "dropout_3 (Dropout)          (None, 100)               0         \n",
            "_________________________________________________________________\n",
            "dense_2 (Dense)              (None, 10)                1010      \n",
            "=================================================================\n",
            "Total params: 90,678\n",
            "Trainable params: 90,678\n",
            "Non-trainable params: 0\n",
            "_________________________________________________________________\n"
          ],
          "name": "stdout"
        }
      ]
    },
    {
      "cell_type": "markdown",
      "metadata": {
        "id": "RoIUpSb_VAMg",
        "colab_type": "text"
      },
      "source": [
        "### Compiling and Fitting the model"
      ]
    },
    {
      "cell_type": "markdown",
      "metadata": {
        "id": "vFO0VwhLVAMg",
        "colab_type": "text"
      },
      "source": [
        "#### Optimizer = Adam\n",
        "#### Loss Metric = categorical_crossentropy"
      ]
    },
    {
      "cell_type": "code",
      "metadata": {
        "id": "MN3biH32VAMh",
        "colab_type": "code",
        "colab": {}
      },
      "source": [
        "model.compile(optimizer = 'Adam', loss = 'categorical_crossentropy' , metrics = ['accuracy'])"
      ],
      "execution_count": 0,
      "outputs": []
    },
    {
      "cell_type": "code",
      "metadata": {
        "id": "hqPnCOUoVAMj",
        "colab_type": "code",
        "colab": {
          "base_uri": "https://localhost:8080/",
          "height": 368
        },
        "outputId": "adc8d55a-e8e9-4a69-a775-b6da80241a79"
      },
      "source": [
        "history = model.fit(Xtrain ,ytrain,batch_size = 100 , epochs = 10 ,validation_data=(Xvalidate, yvalidate) , verbose = 1)"
      ],
      "execution_count": 10,
      "outputs": [
        {
          "output_type": "stream",
          "text": [
            "Train on 50000 samples, validate on 10000 samples\n",
            "Epoch 1/10\n",
            "50000/50000 [==============================] - 45s 904us/step - loss: 0.6860 - accuracy: 0.7611 - val_loss: 0.4420 - val_accuracy: 0.8514\n",
            "Epoch 2/10\n",
            "50000/50000 [==============================] - 45s 896us/step - loss: 0.4471 - accuracy: 0.8406 - val_loss: 0.3614 - val_accuracy: 0.8741\n",
            "Epoch 3/10\n",
            "50000/50000 [==============================] - 45s 891us/step - loss: 0.3985 - accuracy: 0.8583 - val_loss: 0.3407 - val_accuracy: 0.8847\n",
            "Epoch 4/10\n",
            "50000/50000 [==============================] - 45s 890us/step - loss: 0.3693 - accuracy: 0.8680 - val_loss: 0.3212 - val_accuracy: 0.8905\n",
            "Epoch 5/10\n",
            "50000/50000 [==============================] - 44s 887us/step - loss: 0.3504 - accuracy: 0.8736 - val_loss: 0.2981 - val_accuracy: 0.8915\n",
            "Epoch 6/10\n",
            "50000/50000 [==============================] - 44s 887us/step - loss: 0.3313 - accuracy: 0.8792 - val_loss: 0.2779 - val_accuracy: 0.9014\n",
            "Epoch 7/10\n",
            "50000/50000 [==============================] - 44s 882us/step - loss: 0.3184 - accuracy: 0.8858 - val_loss: 0.2732 - val_accuracy: 0.9060\n",
            "Epoch 8/10\n",
            "50000/50000 [==============================] - 44s 885us/step - loss: 0.3052 - accuracy: 0.8898 - val_loss: 0.2719 - val_accuracy: 0.9060\n",
            "Epoch 9/10\n",
            "50000/50000 [==============================] - 44s 885us/step - loss: 0.2972 - accuracy: 0.8913 - val_loss: 0.2568 - val_accuracy: 0.9067\n",
            "Epoch 10/10\n",
            "50000/50000 [==============================] - 44s 879us/step - loss: 0.2863 - accuracy: 0.8964 - val_loss: 0.2639 - val_accuracy: 0.9063\n"
          ],
          "name": "stdout"
        }
      ]
    },
    {
      "cell_type": "markdown",
      "metadata": {
        "id": "xPF_7rzwVAMl",
        "colab_type": "text"
      },
      "source": [
        "### Plotting the Accuracy and Losses for training and test sets"
      ]
    },
    {
      "cell_type": "code",
      "metadata": {
        "id": "gAIirB7LVAMl",
        "colab_type": "code",
        "colab": {}
      },
      "source": [
        "import matplotlib.pyplot as plt"
      ],
      "execution_count": 0,
      "outputs": []
    },
    {
      "cell_type": "code",
      "metadata": {
        "id": "KEFECKQnVAMn",
        "colab_type": "code",
        "colab": {
          "base_uri": "https://localhost:8080/",
          "height": 545
        },
        "outputId": "b1acc3fd-2808-44fc-aa5a-8623f7827584"
      },
      "source": [
        "plt.title(\"Categorical_CrossEntropy Loss\")\n",
        "plt.plot(history.history['loss'] , color = 'blue' , label = 'training loss')\n",
        "plt.plot(history.history['val_loss'] , color = 'red' , label = 'validation loss')\n",
        "plt.legend()\n",
        "plt.show()\n",
        "\n",
        "plt.title(\"Accuracy\")\n",
        "plt.plot(history.history['accuracy'] , color = 'cyan' , label = 'training accuracy')\n",
        "plt.plot(history.history['val_accuracy'] , color = 'orange' , label = 'validation accuracy')\n",
        "plt.legend()\n",
        "plt.show()"
      ],
      "execution_count": 12,
      "outputs": [
        {
          "output_type": "display_data",
          "data": {
            "image/png": "[encoded data removed]",
            "text/plain": [
              "<Figure size 432x288 with 1 Axes>"
            ]
          },
          "metadata": {
            "tags": [],
            "needs_background": "light"
          }
        },
        {
          "output_type": "display_data",
          "data": {
            "image/png": "[encoded data removed]",
            "text/plain": [
              "<Figure size 432x288 with 1 Axes>"
            ]
          },
          "metadata": {
            "tags": [],
            "needs_background": "light"
          }
        }
      ]
    },
    {
      "cell_type": "markdown",
      "metadata": {
        "id": "JcxDH-NnVAMp",
        "colab_type": "text"
      },
      "source": [
        "### Predicting test data"
      ]
    },
    {
      "cell_type": "code",
      "metadata": {
        "id": "iC8xfRTDVAMp",
        "colab_type": "code",
        "colab": {}
      },
      "source": [
        "y_predict = np.argmax(model.predict(Xtest) , axis = 1)"
      ],
      "execution_count": 0,
      "outputs": []
    },
    {
      "cell_type": "code",
      "metadata": {
        "id": "WEA-cfrSVAMs",
        "colab_type": "code",
        "colab": {
          "base_uri": "https://localhost:8080/",
          "height": 33
        },
        "outputId": "16bc89db-1bc4-4655-e094-8266023253cf"
      },
      "source": [
        "y_predict"
      ],
      "execution_count": 14,
      "outputs": [
        {
          "output_type": "execute_result",
          "data": {
            "text/plain": [
              "array([9, 2, 1, ..., 8, 1, 5])"
            ]
          },
          "metadata": {
            "tags": []
          },
          "execution_count": 14
        }
      ]
    },
    {
      "cell_type": "code",
      "metadata": {
        "id": "QoLNMEPUVAMu",
        "colab_type": "code",
        "colab": {
          "base_uri": "https://localhost:8080/",
          "height": 33
        },
        "outputId": "807dc7a0-2a1b-4b34-8dd7-3359f40856f6"
      },
      "source": [
        "accuracy = np.mean((y_predict==ytest))\n",
        "print(\"Test accuracy = \" , accuracy*100 , \"%\")"
      ],
      "execution_count": 15,
      "outputs": [
        {
          "output_type": "stream",
          "text": [
            "Test accuracy =  89.92999999999999 %\n"
          ],
          "name": "stdout"
        }
      ]
    },
    {
      "cell_type": "markdown",
      "metadata": {
        "id": "jlAb6pFTVAMw",
        "colab_type": "text"
      },
      "source": [
        "### User Input data"
      ]
    },
    {
      "cell_type": "code",
      "metadata": {
        "id": "-jpYy4rBVAMw",
        "colab_type": "code",
        "colab": {}
      },
      "source": [
        "def user_input(path):\n",
        "    img = keras.preprocessing.image.load_img(path, color_mode=\"grayscale\" , target_size=(28,28) ,interpolation='nearest')\n",
        "    X = keras.preprocessing.image.img_to_array(img, data_format=None, dtype=None)\n",
        "    X = X.reshape(-1, 28,28,1)\n",
        "    return X"
      ],
      "execution_count": 0,
      "outputs": []
    },
    {
      "cell_type": "code",
      "metadata": {
        "id": "2ivvbsBWVAM0",
        "colab_type": "code",
        "colab": {}
      },
      "source": [
        "import numpy as np\n",
        "path = '<path_to_input>/input.jpg'\n",
        "X = user_input(path)\n",
        "yhat = model.predict(X)\n",
        "\n",
        "predicted = np.argmax(yhat)"
      ],
      "execution_count": 0,
      "outputs": []
    },
    {
      "cell_type": "markdown",
      "metadata": {
        "id": "k4czvR6WVAM1",
        "colab_type": "text"
      },
      "source": [
        "### Saving the model and weights"
      ]
    },
    {
      "cell_type": "code",
      "metadata": {
        "id": "YUEBmKnoVAM2",
        "colab_type": "code",
        "colab": {}
      },
      "source": [
        "from keras.models import model_from_json"
      ],
      "execution_count": 0,
      "outputs": []
    },
    {
      "cell_type": "code",
      "metadata": {
        "id": "JyU7uDPmVAM3",
        "colab_type": "code",
        "colab": {}
      },
      "source": [
        "model_json = model.to_json()\n",
        "with open(\"Fashion_MNIST_keras_model.json\", \"w\") as json_file:\n",
        "    json_file.write(model_json)"
      ],
      "execution_count": 0,
      "outputs": []
    },
    {
      "cell_type": "code",
      "metadata": {
        "id": "hFlYnh4KVAM5",
        "colab_type": "code",
        "colab": {}
      },
      "source": [
        "model.save_weights('Fashion_MNIST_keras_weights.h5')"
      ],
      "execution_count": 0,
      "outputs": []
    }
  ]
}