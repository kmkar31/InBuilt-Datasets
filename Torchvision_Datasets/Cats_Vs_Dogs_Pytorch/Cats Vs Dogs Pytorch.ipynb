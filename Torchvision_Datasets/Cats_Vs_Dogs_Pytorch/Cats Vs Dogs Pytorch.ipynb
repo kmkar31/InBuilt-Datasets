{
 "cells": [
  {
   "cell_type": "code",
   "execution_count": null,
   "metadata": {},
   "outputs": [],
   "source": [
    "import numpy as np\n",
    "import pandas as pd\n",
    "import torch\n",
    "import matplotlib.pyplot as plt\n",
    "import os\n",
    "import torchvision.transforms as transforms\n",
    "import torch.nn as nn\n",
    "from torch.utils.data import DataLoader,Dataset\n",
    "from PIL import Image"
   ]
  },
  {
   "cell_type": "markdown",
   "metadata": {},
   "source": [
    "### Defining Transforms"
   ]
  },
  {
   "cell_type": "code",
   "execution_count": null,
   "metadata": {},
   "outputs": [],
   "source": [
    "transform1 = transforms.Compose([transforms.Resize((128,128)) ,transforms.ToTensor()])\n",
    "transform2 = transforms.Compose([transforms.Resize((128,128)), transforms.RandomVerticalFlip(p=1) , transforms.ToTensor()])\n",
    "transform3 = transforms.Compose([transforms.Resize((128,128)), transforms.RandomHorizontalFlip(p=1) , transforms.ToTensor()])"
   ]
  },
  {
   "cell_type": "markdown",
   "metadata": {},
   "source": [
    "### Function to load all image from a directory"
   ]
  },
  {
   "cell_type": "code",
   "execution_count": null,
   "metadata": {},
   "outputs": [],
   "source": [
    "def load_img(dirs , transform):\n",
    "    \n",
    "    y = []\n",
    "    for file in os.listdir(dirs):\n",
    "        img_name = os.path.join(dirs, file)\n",
    "        image = Image.open(img_name)\n",
    "        y.append(transform(image))\n",
    "    return y           "
   ]
  },
  {
   "cell_type": "markdown",
   "metadata": {},
   "source": [
    "### Defining the Model"
   ]
  },
  {
   "cell_type": "code",
   "execution_count": null,
   "metadata": {},
   "outputs": [],
   "source": [
    "class CNN(nn.Module):\n",
    "    def __init__(self , out1 , out2 , out3):\n",
    "        super(CNN,self).__init__()\n",
    "        \n",
    "        self.cnn1 = nn.Conv2d(in_channels = 3 , out_channels = out1 , kernel_size = 3 , padding = 0)\n",
    "        self.activate1 = nn.ReLU()\n",
    "        self.maxpool1 = nn.MaxPool2d(kernel_size = 2)\n",
    "        \n",
    "        self.cnn2 = nn.Conv2d(in_channels = out1 , out_channels = out2 , kernel_size = 3 , stride = 1 , padding = 0)\n",
    "        self.activate2 = nn.ReLU()\n",
    "        self.maxpool2 = nn.MaxPool2d(kernel_size = 2 )\n",
    "        \n",
    "        self.cnn3 = nn.Conv2d(in_channels = out2 , out_channels = out3 , kernel_size = 3 , stride = 1 , padding = 0)\n",
    "        self.activate3 = nn.ReLU()\n",
    "        self.maxpool3 = nn.MaxPool2d(kernel_size = 2 )\n",
    "        \n",
    "        self.fc1 = nn.Linear(out3*14*14 , 2)\n",
    "        \n",
    "        self.sigmoid = nn.Sigmoid()\n",
    "        \n",
    "    \n",
    "    def forward(self , x):\n",
    "        \n",
    "        x = self.cnn1(x)\n",
    "        x = self.activate1(x)\n",
    "        x = self.maxpool1(x)\n",
    "    \n",
    "        x = self.cnn2(x)\n",
    "        x = self.activate2(x)\n",
    "        x = self.maxpool2(x)\n",
    "        \n",
    "        x = self.cnn3(x)\n",
    "        x = self.activate3(x)\n",
    "        x = self.maxpool3(x)\n",
    "        \n",
    "        x = x.view(x.size(0) , -1)\n",
    "        x = self.fc1(x)\n",
    "        x = self.sigmoid(x)\n",
    "        \n",
    "        return x"
   ]
  },
  {
   "cell_type": "markdown",
   "metadata": {},
   "source": [
    "### Defining three datasets - one Normal and two Augmented\n",
    "##### Of the two augmented datsets , one has images flipped vertically and the other horizontally"
   ]
  },
  {
   "cell_type": "code",
   "execution_count": null,
   "metadata": {},
   "outputs": [],
   "source": [
    "Xtrain1 = load_img('F:/Machine Learning/Cats Vs Dogs/train/train' , transform1)\n",
    "ytrain1 = np.zeros((25000,2))\n",
    "for i in range(12500):\n",
    "    ytrain1[i,0] = 1\n",
    "    ytrain1[i+12500,1] = 1"
   ]
  },
  {
   "cell_type": "code",
   "execution_count": null,
   "metadata": {},
   "outputs": [],
   "source": [
    "Xtrain2 = load_img('F:/Machine Learning/Cats Vs Dogs/train/train' , transform2)\n",
    "ytrain2 = np.zeros((25000,2))\n",
    "for i in range(12500):\n",
    "    ytrain2[i,0] = 1\n",
    "    ytrain2[i+12500,1] = 1"
   ]
  },
  {
   "cell_type": "code",
   "execution_count": null,
   "metadata": {},
   "outputs": [],
   "source": [
    "Xtrain3 = load_img('F:/Machine Learning/Cats Vs Dogs/train/train' , transform3)\n",
    "ytrain3 = np.zeros((25000,2))\n",
    "for i in range(12500):\n",
    "    ytrain3[i,0] = 1\n",
    "    ytrain3[i+12500,1] = 1"
   ]
  },
  {
   "cell_type": "markdown",
   "metadata": {},
   "source": [
    "#### Plot a random image and label"
   ]
  },
  {
   "cell_type": "code",
   "execution_count": null,
   "metadata": {},
   "outputs": [],
   "source": [
    "plt.imshow(Xtrain2[134][1].numpy())\n",
    "print(ytrain2[134])"
   ]
  },
  {
   "cell_type": "markdown",
   "metadata": {},
   "source": [
    "### Combine Data and labels to create a DataLoader Object"
   ]
  },
  {
   "cell_type": "code",
   "execution_count": null,
   "metadata": {},
   "outputs": [],
   "source": [
    "train_data = []\n",
    "for i in range(len(Xtrain1)):\n",
    "    train_data.append([Xtrain1[i], ytrain1[i]])\n",
    "    train_data.append([Xtrain2[i], ytrain2[i]])\n",
    "    train_data.append([Xtrain3[i], ytrain3[i]])"
   ]
  },
  {
   "cell_type": "code",
   "execution_count": null,
   "metadata": {},
   "outputs": [],
   "source": [
    "trainloader = torch.utils.data.DataLoader(train_data, shuffle=True, batch_size=100)"
   ]
  },
  {
   "cell_type": "markdown",
   "metadata": {},
   "source": [
    "### Create a model , define loss criterion and the optimizer"
   ]
  },
  {
   "cell_type": "code",
   "execution_count": null,
   "metadata": {},
   "outputs": [],
   "source": [
    "model = CNN(32,32,64)\n",
    "criterion = nn.BCELoss()\n",
    "optimizer = torch.optim.RMSprop(model.parameters() , lr = 0.01 , momentum = 0.9)"
   ]
  },
  {
   "cell_type": "markdown",
   "metadata": {},
   "source": [
    "### Function to plot accuracy and loss"
   ]
  },
  {
   "cell_type": "code",
   "execution_count": null,
   "metadata": {},
   "outputs": [],
   "source": [
    "def plot_accuracy_loss(accuracy , LOSS):\n",
    "    plt.plot(accuracy)\n",
    "    plt.title(\"Training Accuracy\")\n",
    "    plt.xlabel(\"Steps\")\n",
    "    plt.ylabel(\"Accuracy\")\n",
    "    plt.show()\n",
    "    \n",
    "    plt.plot(LOSS , color = 'red')\n",
    "    plt.title(\"Training Loss\")\n",
    "    plt.xlabel(\"Steps\")\n",
    "    plt.ylabel(\"Loss\")\n",
    "    plt.show()"
   ]
  },
  {
   "cell_type": "markdown",
   "metadata": {},
   "source": [
    "### Run the Program"
   ]
  },
  {
   "cell_type": "code",
   "execution_count": null,
   "metadata": {},
   "outputs": [],
   "source": [
    "import time"
   ]
  },
  {
   "cell_type": "code",
   "execution_count": null,
   "metadata": {},
   "outputs": [],
   "source": [
    "epochs = 1\n",
    "accuracy = []\n",
    "for e in range(epochs):\n",
    "    print(\"Epoch :\" , e+1)\n",
    "    temp = []\n",
    "    LOSS = []\n",
    "    i==0\n",
    "    now = time.time()\n",
    "    for x , y in trainloader:\n",
    "        i = i+1\n",
    "        y = y.type(torch.FloatTensor)\n",
    "        _,y_red = y.max(1)\n",
    "        z = model(x)\n",
    "        \n",
    "        loss = criterion(z , y)\n",
    "        LOSS.append(loss)\n",
    "        _,yhat = z.max(1)\n",
    "        if i==1:\n",
    "            print(yhat , y_red)\n",
    "        temp.append((yhat==y_red).sum())\n",
    "        \n",
    "        optimizer.zero_grad()\n",
    "        loss.backward()\n",
    "        optimizer.step()\n",
    "        \n",
    "    accuracy.append(np.mean(temp))\n",
    "    end = time.time()\n",
    "    print(\"Time : \" ,end-now)\n",
    "    plot_accuracy_loss(temp , LOSS)"
   ]
  },
  {
   "cell_type": "markdown",
   "metadata": {},
   "source": [
    "### Deallocate Memory for Xtrain"
   ]
  },
  {
   "cell_type": "code",
   "execution_count": null,
   "metadata": {},
   "outputs": [],
   "source": [
    "del Xtrain1,Xtrain2,Xtrain3"
   ]
  },
  {
   "cell_type": "markdown",
   "metadata": {},
   "source": [
    "### Load Testing Data"
   ]
  },
  {
   "cell_type": "code",
   "execution_count": null,
   "metadata": {},
   "outputs": [],
   "source": [
    "Xtest = load_img('F:/Machine Learning/Cats Vs Dogs/test/test' , transform1)"
   ]
  },
  {
   "cell_type": "markdown",
   "metadata": {},
   "source": [
    "### Obatin Predictions"
   ]
  },
  {
   "cell_type": "code",
   "execution_count": null,
   "metadata": {},
   "outputs": [],
   "source": [
    "testloader = torch.utils.data.DataLoader(Xtest , batch_size = 100)"
   ]
  },
  {
   "cell_type": "code",
   "execution_count": null,
   "metadata": {},
   "outputs": [],
   "source": [
    "y_predict = []\n",
    "for x in testloader:\n",
    "    z = model(x)\n",
    "    _,yhat = z.max(1)\n",
    "    y_predict.append(yhat) "
   ]
  },
  {
   "cell_type": "code",
   "execution_count": null,
   "metadata": {},
   "outputs": [],
   "source": [
    "print(y_predict)"
   ]
  },
  {
   "cell_type": "markdown",
   "metadata": {},
   "source": [
    "### Write the output to a CSV file"
   ]
  },
  {
   "cell_type": "code",
   "execution_count": null,
   "metadata": {},
   "outputs": [],
   "source": [
    "pd.DataFrame(np.array(y_predict)).to_csv(\"F:/predict.csv\")"
   ]
  }
 ],
 "metadata": {
  "kernelspec": {
   "display_name": "Python 3",
   "language": "python",
   "name": "python3"
  },
  "language_info": {
   "codemirror_mode": {
    "name": "ipython",
    "version": 3
   },
   "file_extension": ".py",
   "mimetype": "text/x-python",
   "name": "python",
   "nbconvert_exporter": "python",
   "pygments_lexer": "ipython3",
   "version": "3.7.6"
  }
 },
 "nbformat": 4,
 "nbformat_minor": 4
}
